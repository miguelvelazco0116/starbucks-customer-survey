{
 "cells": [
  {
   "cell_type": "markdown",
   "id": "5a7907f6",
   "metadata": {},
   "source": [
    "***`Business Context`***,\n",
    "\n",
    "In today's highly competitive market, maximizing **customer loyalty** is a top priority for businesses. Understanding the key **drivers** that hold the most value for customers is crucial in developing effective strategies to enhance loyalty.\n",
    "<br><br>\n",
    "To gain **insights** into customer loyalty, a comprehensive dataset comprising multiple surveys conducted among clients has been compiled. The primary objective is to identify the key **features and factors** that significantly influence customer loyalty.<br>\n",
    "By analyzing this data, businesses can make informed decisions and tailor their offerings to better meet customer needs, ultimately fostering stronger loyalty and long-term customer relationships."
   ]
  },
  {
   "cell_type": "markdown",
   "id": "e74c48cd",
   "metadata": {},
   "source": [
    "*packages*"
   ]
  },
  {
   "cell_type": "code",
   "execution_count": 1,
   "id": "73ff5ae8",
   "metadata": {},
   "outputs": [],
   "source": [
    "# general\n",
    "import psycopg2\n",
    "import pandas as pd\n",
    "from sqlalchemy import create_engine\n",
    "import os, yaml, requests, random, time\n",
    "import numpy as np\n",
    "from math import pi\n",
    "\n",
    "# shap\n",
    "import shap \n",
    "\n",
    "# scikitlearn\n",
    "from sklearn.model_selection import train_test_split\n",
    "from sklearn import svm, metrics, decomposition\n",
    "from sklearn.linear_model import LogisticRegression, SGDClassifier\n",
    "from sklearn.model_selection import GridSearchCV\n",
    "from sklearn.model_selection import ParameterGrid\n",
    "from sklearn.metrics import precision_recall_curve\n",
    "from sklearn.metrics import precision_score, recall_score\n",
    "from sklearn.model_selection import cross_val_predict\n",
    "from sklearn.model_selection import cross_val_score\n",
    "from sklearn.metrics import roc_curve\n",
    "from sklearn.metrics import *\n",
    "\n",
    "# To plot pretty figures\n",
    "%matplotlib inline\n",
    "import seaborn as sns\n",
    "import matplotlib as mpl\n",
    "import matplotlib.pyplot as plt\n",
    "mpl.rc('axes', labelsize=14)\n",
    "mpl.rc('xtick', labelsize=12)\n",
    "mpl.rc('ytick', labelsize=12)\n",
    "plt.style.use('ggplot')"
   ]
  },
  {
   "cell_type": "markdown",
   "id": "b85f6e39",
   "metadata": {},
   "source": [
    "*functions*"
   ]
  },
  {
   "cell_type": "code",
   "execution_count": 2,
   "id": "2645df8a",
   "metadata": {},
   "outputs": [],
   "source": [
    "def read_yaml_file(yaml_file):\n",
    "    \"\"\" load yaml cofigurations \"\"\"\n",
    "\n",
    "    config = None\n",
    "    try:\n",
    "        with open(yaml_file, 'r') as f:\n",
    "            config = yaml.safe_load(f)\n",
    "    except:\n",
    "        raise FileNotFoundError('Couldnt load the file')\n",
    "\n",
    "    return config\n",
    "\n",
    "\n",
    "def get_db_conn_post(creds_file):\n",
    "    \"\"\" Get an authenticated psycopg db connection, given a credentials file\"\"\"\n",
    "    creds = read_yaml_file(creds_file)['db']\n",
    "\n",
    "    connection = psycopg2.connect(\n",
    "        user=creds['user'],\n",
    "        password=creds['pass'],\n",
    "        host=creds['host'],\n",
    "        port=creds['port'],\n",
    "        database=creds['db']\n",
    "    )\n",
    "\n",
    "    return connection"
   ]
  },
  {
   "cell_type": "code",
   "execution_count": 3,
   "id": "af262949",
   "metadata": {},
   "outputs": [],
   "source": [
    "def define_clfs_params():\n",
    "\n",
    "    clfs = {\n",
    "        'LR': LogisticRegression(penalty='l1', C=0.05, solver = 'liblinear', random_state = 42),\n",
    "        'SVM': svm.SVC(kernel = 'poly', degree = 3, probability = True, random_state = 42),\n",
    "        'SGD': SGDClassifier(loss=\"modified_huber\", penalty=\"l2\", alpha=0.01),\n",
    "            }\n",
    "    \n",
    "    grid = {     \n",
    "    'LR': {'penalty': ['l1','l2'], 'C': [0.00001, 0.001, 0.01, 0.1, 1, 10]},\n",
    "    'SVM' :{'C' :[0.00001, 0.0001, 0.001, 0.01, 0.1, 1, 10],'degree':[2, 3, 4, 7]},\n",
    "    'SGD': {'loss': ['modified_huber', 'perceptron'], 'penalty': ['l2','l1','elasticnet'], \n",
    "            'alpha':[0.00001, 0.001, 0.01, 0.1, 1, 10]}\n",
    "           }    \n",
    "            \n",
    "    return clfs, grid"
   ]
  },
  {
   "cell_type": "code",
   "execution_count": 4,
   "id": "a96e46ad",
   "metadata": {},
   "outputs": [],
   "source": [
    "def clf_loop(clfs, grid, X_train, y_train, X_test, y_test):\n",
    "    results_df =  pd.DataFrame(columns=('model','clf', 'score', 'auc-roc', \n",
    "                                        'score with grid', 'auc-roc with grid', 'best parameters'))\n",
    "    models_to_run = ['LR', 'SVM', 'SGD']\n",
    "    \n",
    "    for m in models_to_run:        \n",
    "        # model\n",
    "        model = clfs[m]\n",
    "        model.fit(X_train, y_train)\n",
    "        \n",
    "        # get score & ROC AUC\n",
    "        y_pred = model.predict(X_test)\n",
    "        score = model.score(X_test, y_test)\n",
    "        roc_auc = roc_auc_score(y_test, y_pred)\n",
    "        \n",
    "        #grid search\n",
    "        model_grid = GridSearchCV(model, grid[m], cv = 7)\n",
    "        model_grid.fit(X_train, y_train)                    \n",
    "        \n",
    "        # get score & ROC AUC (grid)\n",
    "        y_predg = model_grid.predict(X_test)\n",
    "        scoreg = model_grid.score(X_test, y_test)\n",
    "        roc_aucg = roc_auc_score(y_test, y_predg)        \n",
    "                \n",
    "        buffer = pd.DataFrame(data = [m, model, score, roc_auc, scoreg, roc_aucg, model_grid.best_params_],\n",
    "                              index=('model','clf', 'score', 'auc-roc', \n",
    "                                       'score with grid', 'auc-roc with grid', 'best parameters')).T\n",
    "        results_df = pd.concat([results_df, buffer], axis = 0)\n",
    "    return results_df.reset_index(drop = True)\n",
    "\n",
    "def plot_precision_vs_recall(precisions, recalls):\n",
    "    plt.plot(recalls, precisions, \"b-\", linewidth = 2)\n",
    "    plt.xlabel(\"Recall\", fontsize = 16)\n",
    "    plt.ylabel(\"Precision\", fontsize = 16)\n",
    "    plt.axis([0, 1, 0, 1])\n",
    "\n",
    "def plot_roc_curve(fpr, tpr, label = None):\n",
    "    plt.plot(fpr, tpr, linewidth = 2, label = label)\n",
    "    plt.plot([0, 1], [0, 1], 'k--')\n",
    "    plt.axis([0, 1, 0, 1])\n",
    "    plt.xlabel('False Positive Rate', fontsize = 16)\n",
    "    plt.ylabel('True Positive Rate', fontsize = 16)\n",
    "    "
   ]
  },
  {
   "cell_type": "markdown",
   "id": "955532d9",
   "metadata": {},
   "source": [
    "*set the connection to the database*"
   ]
  },
  {
   "cell_type": "code",
   "execution_count": 5,
   "id": "7af84e99",
   "metadata": {},
   "outputs": [],
   "source": [
    "db_conn_post = get_db_conn_post(\"key_postgresql.yaml\")"
   ]
  },
  {
   "cell_type": "markdown",
   "id": "9a7b8fbd",
   "metadata": {},
   "source": [
    "*query and load the data*"
   ]
  },
  {
   "cell_type": "code",
   "execution_count": 6,
   "id": "2e3b9624",
   "metadata": {},
   "outputs": [
    {
     "name": "stderr",
     "output_type": "stream",
     "text": [
      "pandas only supports SQLAlchemy connectable (engine/connection) or database string URI or sqlite3 DBAPI2 connection. Other DBAPI2 objects are not tested. Please consider using SQLAlchemy.\n"
     ]
    },
    {
     "data": {
      "text/html": [
       "<div>\n",
       "<style scoped>\n",
       "    .dataframe tbody tr th:only-of-type {\n",
       "        vertical-align: middle;\n",
       "    }\n",
       "\n",
       "    .dataframe tbody tr th {\n",
       "        vertical-align: top;\n",
       "    }\n",
       "\n",
       "    .dataframe thead th {\n",
       "        text-align: right;\n",
       "    }\n",
       "</style>\n",
       "<table border=\"1\" class=\"dataframe\">\n",
       "  <thead>\n",
       "    <tr style=\"text-align: right;\">\n",
       "      <th></th>\n",
       "      <th>Id</th>\n",
       "      <th>gender</th>\n",
       "      <th>age</th>\n",
       "      <th>status</th>\n",
       "      <th>income</th>\n",
       "      <th>visitNo</th>\n",
       "      <th>method</th>\n",
       "      <th>timeSpend</th>\n",
       "      <th>location</th>\n",
       "      <th>membershipCard</th>\n",
       "      <th>...</th>\n",
       "      <th>chooseRate</th>\n",
       "      <th>promoMethodApp</th>\n",
       "      <th>promoMethodSoc</th>\n",
       "      <th>promoMethodEmail</th>\n",
       "      <th>promoMethodDeal</th>\n",
       "      <th>promoMethodFriend</th>\n",
       "      <th>promoMethodDisplay</th>\n",
       "      <th>promoMethodBillboard</th>\n",
       "      <th>promoMethodOthers</th>\n",
       "      <th>loyal</th>\n",
       "    </tr>\n",
       "  </thead>\n",
       "  <tbody>\n",
       "    <tr>\n",
       "      <th>0</th>\n",
       "      <td>1</td>\n",
       "      <td>1</td>\n",
       "      <td>1</td>\n",
       "      <td>0</td>\n",
       "      <td>0</td>\n",
       "      <td>3</td>\n",
       "      <td>0</td>\n",
       "      <td>1</td>\n",
       "      <td>0</td>\n",
       "      <td>0</td>\n",
       "      <td>...</td>\n",
       "      <td>3</td>\n",
       "      <td>1</td>\n",
       "      <td>1</td>\n",
       "      <td>1</td>\n",
       "      <td>1</td>\n",
       "      <td>1</td>\n",
       "      <td>1</td>\n",
       "      <td>1</td>\n",
       "      <td>1</td>\n",
       "      <td>0</td>\n",
       "    </tr>\n",
       "    <tr>\n",
       "      <th>1</th>\n",
       "      <td>2</td>\n",
       "      <td>1</td>\n",
       "      <td>1</td>\n",
       "      <td>0</td>\n",
       "      <td>0</td>\n",
       "      <td>3</td>\n",
       "      <td>2</td>\n",
       "      <td>0</td>\n",
       "      <td>1</td>\n",
       "      <td>0</td>\n",
       "      <td>...</td>\n",
       "      <td>2</td>\n",
       "      <td>1</td>\n",
       "      <td>1</td>\n",
       "      <td>1</td>\n",
       "      <td>1</td>\n",
       "      <td>1</td>\n",
       "      <td>1</td>\n",
       "      <td>1</td>\n",
       "      <td>1</td>\n",
       "      <td>0</td>\n",
       "    </tr>\n",
       "    <tr>\n",
       "      <th>2</th>\n",
       "      <td>3</td>\n",
       "      <td>0</td>\n",
       "      <td>1</td>\n",
       "      <td>2</td>\n",
       "      <td>0</td>\n",
       "      <td>2</td>\n",
       "      <td>0</td>\n",
       "      <td>1</td>\n",
       "      <td>2</td>\n",
       "      <td>0</td>\n",
       "      <td>...</td>\n",
       "      <td>3</td>\n",
       "      <td>1</td>\n",
       "      <td>1</td>\n",
       "      <td>1</td>\n",
       "      <td>1</td>\n",
       "      <td>1</td>\n",
       "      <td>1</td>\n",
       "      <td>1</td>\n",
       "      <td>1</td>\n",
       "      <td>0</td>\n",
       "    </tr>\n",
       "  </tbody>\n",
       "</table>\n",
       "<p>3 rows × 33 columns</p>\n",
       "</div>"
      ],
      "text/plain": [
       "   Id  gender  age  status  income  visitNo  method  timeSpend  location  \\\n",
       "0   1       1    1       0       0        3       0          1         0   \n",
       "1   2       1    1       0       0        3       2          0         1   \n",
       "2   3       0    1       2       0        2       0          1         2   \n",
       "\n",
       "   membershipCard  ...  chooseRate  promoMethodApp  promoMethodSoc  \\\n",
       "0               0  ...           3               1               1   \n",
       "1               0  ...           2               1               1   \n",
       "2               0  ...           3               1               1   \n",
       "\n",
       "   promoMethodEmail  promoMethodDeal  promoMethodFriend  promoMethodDisplay  \\\n",
       "0                 1                1                  1                   1   \n",
       "1                 1                1                  1                   1   \n",
       "2                 1                1                  1                   1   \n",
       "\n",
       "   promoMethodBillboard  promoMethodOthers  loyal  \n",
       "0                     1                  1      0  \n",
       "1                     1                  1      0  \n",
       "2                     1                  1      0  \n",
       "\n",
       "[3 rows x 33 columns]"
      ]
     },
     "execution_count": 6,
     "metadata": {},
     "output_type": "execute_result"
    }
   ],
   "source": [
    "q = \"\"\"\n",
    "    select\n",
    "            *\n",
    "    from\n",
    "            kaggle_data.starbucks.survey_clean;\n",
    "\"\"\"\n",
    "\n",
    "df = pd.read_sql(sql = q, con = db_conn_post)\n",
    "df.head(3)"
   ]
  },
  {
   "cell_type": "markdown",
   "id": "876d87ca",
   "metadata": {},
   "source": [
    "In the context of our **analysis**, we have conducted a comprehensive survey encompassing various features that influence customer satisfaction. <br>\n",
    "For the purpose of this example, we will focus on the following key features: product rate, price rate, promo rate, ambiance rate, WiFi rate, service rate, and choice rate.<br>\n",
    "These features have been carefully selected to provide valuable **insights** into the factors that contribute to customer **perception** and overall **experience**. By examining these aspects, we aim to gain a deeper understanding of customer preferences and identify areas for **improvement** in our **offerings**."
   ]
  },
  {
   "cell_type": "code",
   "execution_count": 7,
   "id": "febaaccd",
   "metadata": {},
   "outputs": [
    {
     "name": "stdout",
     "output_type": "stream",
     "text": [
      "Id\n",
      "gender\n",
      "age\n",
      "status\n",
      "income\n",
      "visitNo\n",
      "method\n",
      "timeSpend\n",
      "location\n",
      "membershipCard\n",
      "itemPurchaseCoffee\n",
      "itempurchaseCold\n",
      "itemPurchasePastries\n",
      "itemPurchaseJuices\n",
      "itemPurchaseSandwiches\n",
      "itemPurchaseOthers\n",
      "spendPurchase\n",
      "productRate\n",
      "priceRate\n",
      "promoRate\n",
      "ambianceRate\n",
      "wifiRate\n",
      "serviceRate\n",
      "chooseRate\n",
      "promoMethodApp\n",
      "promoMethodSoc\n",
      "promoMethodEmail\n",
      "promoMethodDeal\n",
      "promoMethodFriend\n",
      "promoMethodDisplay\n",
      "promoMethodBillboard\n",
      "promoMethodOthers\n",
      "loyal\n"
     ]
    }
   ],
   "source": [
    "for column in df.columns:\n",
    "    print(column)"
   ]
  },
  {
   "cell_type": "markdown",
   "id": "dcc8c46e",
   "metadata": {},
   "source": [
    "*In the context of the analysis,*\n",
    " - 1 is very bad\n",
    " - 5 excellent\n",
    " \n",
    "*And the raw question was,*\n",
    "- How would you rate the quality of Starbucks compared to other brands (Coffee Bean, Old Town White Coffee..)\n",
    "- How would you rate the price range at Starbucks?\t\n",
    "- How important are sales and promotions in your purchase decision?\t\n",
    "- How would you rate the ambiance at Starbucks? (lighting, music, etc...)\t\n",
    "- You rate the WiFi quality at Starbucks as..\t\n",
    "- How would you rate the service at Starbucks? (Promptness, friendliness, etc..)\t\n",
    "- How likely you will choose Starbucks for doing business meetings or hangout with friends?"
   ]
  },
  {
   "cell_type": "markdown",
   "id": "1178ebee",
   "metadata": {},
   "source": [
    "To facilitate a comprehensive analysis, we will rescale the features on a range from 0 to 10, this approach enables us to prioritize actions and allocate resources based on the perceived significance and value of each feature within the utility function.\n",
    "\n",
    "\\begin{gather*}\n",
    "z = \\beta_{1}product + \\beta_{2}price + \\beta_{3}ambiance + \\beta_{4}service + \\beta_{5}promo + \\beta_{6}wifi + \\beta_{7}choose\\\\\n",
    "\\end{gather*}"
   ]
  },
  {
   "cell_type": "code",
   "execution_count": 8,
   "id": "5cbc20d3",
   "metadata": {},
   "outputs": [],
   "source": [
    "df_in = df.filter(like = 'Rate', axis = 'columns') #df_in: data frame insights\n",
    "df_in = df_in * 2\n",
    "df_in = pd.concat([df_in, df['loyal']], axis = 1)"
   ]
  },
  {
   "cell_type": "code",
   "execution_count": 9,
   "id": "bc9b2657",
   "metadata": {},
   "outputs": [
    {
     "data": {
      "text/html": [
       "<div>\n",
       "<style scoped>\n",
       "    .dataframe tbody tr th:only-of-type {\n",
       "        vertical-align: middle;\n",
       "    }\n",
       "\n",
       "    .dataframe tbody tr th {\n",
       "        vertical-align: top;\n",
       "    }\n",
       "\n",
       "    .dataframe thead th {\n",
       "        text-align: right;\n",
       "    }\n",
       "</style>\n",
       "<table border=\"1\" class=\"dataframe\">\n",
       "  <thead>\n",
       "    <tr style=\"text-align: right;\">\n",
       "      <th></th>\n",
       "      <th>productRate</th>\n",
       "      <th>priceRate</th>\n",
       "      <th>promoRate</th>\n",
       "      <th>ambianceRate</th>\n",
       "      <th>wifiRate</th>\n",
       "      <th>serviceRate</th>\n",
       "      <th>chooseRate</th>\n",
       "      <th>loyal</th>\n",
       "    </tr>\n",
       "  </thead>\n",
       "  <tbody>\n",
       "    <tr>\n",
       "      <th>0</th>\n",
       "      <td>8</td>\n",
       "      <td>6</td>\n",
       "      <td>10</td>\n",
       "      <td>10</td>\n",
       "      <td>8</td>\n",
       "      <td>8</td>\n",
       "      <td>6</td>\n",
       "      <td>0</td>\n",
       "    </tr>\n",
       "    <tr>\n",
       "      <th>1</th>\n",
       "      <td>8</td>\n",
       "      <td>6</td>\n",
       "      <td>8</td>\n",
       "      <td>8</td>\n",
       "      <td>8</td>\n",
       "      <td>10</td>\n",
       "      <td>4</td>\n",
       "      <td>0</td>\n",
       "    </tr>\n",
       "    <tr>\n",
       "      <th>2</th>\n",
       "      <td>8</td>\n",
       "      <td>6</td>\n",
       "      <td>8</td>\n",
       "      <td>8</td>\n",
       "      <td>8</td>\n",
       "      <td>8</td>\n",
       "      <td>6</td>\n",
       "      <td>0</td>\n",
       "    </tr>\n",
       "    <tr>\n",
       "      <th>3</th>\n",
       "      <td>4</td>\n",
       "      <td>2</td>\n",
       "      <td>8</td>\n",
       "      <td>6</td>\n",
       "      <td>6</td>\n",
       "      <td>6</td>\n",
       "      <td>6</td>\n",
       "      <td>1</td>\n",
       "    </tr>\n",
       "    <tr>\n",
       "      <th>4</th>\n",
       "      <td>6</td>\n",
       "      <td>6</td>\n",
       "      <td>8</td>\n",
       "      <td>4</td>\n",
       "      <td>4</td>\n",
       "      <td>6</td>\n",
       "      <td>6</td>\n",
       "      <td>0</td>\n",
       "    </tr>\n",
       "  </tbody>\n",
       "</table>\n",
       "</div>"
      ],
      "text/plain": [
       "   productRate  priceRate  promoRate  ambianceRate  wifiRate  serviceRate  \\\n",
       "0            8          6         10            10         8            8   \n",
       "1            8          6          8             8         8           10   \n",
       "2            8          6          8             8         8            8   \n",
       "3            4          2          8             6         6            6   \n",
       "4            6          6          8             4         4            6   \n",
       "\n",
       "   chooseRate  loyal  \n",
       "0           6      0  \n",
       "1           4      0  \n",
       "2           6      0  \n",
       "3           6      1  \n",
       "4           6      0  "
      ]
     },
     "execution_count": 9,
     "metadata": {},
     "output_type": "execute_result"
    }
   ],
   "source": [
    "df_in.head()"
   ]
  },
  {
   "cell_type": "markdown",
   "id": "2592c58d",
   "metadata": {},
   "source": [
    "In this analysis, we approach the problem as a **classification** task with a binary outcome, where the value of 0 represents **non-loyalty** and 1 represents **loyalty.** It is important to note that the distribution of the output variable is imbalanced, meaning that the number of instances in each class is unequal. <br><br>\n",
    "\n",
    "While this scenario is not uncommon in real-world situations, it poses a challenge in accurately predicting the minority class. To address this imbalance and ensure reliable model performance, appropriate techniques such as resampling or adjusting class weights can be employed to provide a more balanced representation and enhance the model's ability to accurately classify instances from both classes."
   ]
  },
  {
   "cell_type": "code",
   "execution_count": 10,
   "id": "c1278e5b",
   "metadata": {},
   "outputs": [
    {
     "data": {
      "image/png": "[encoded data removed]",
      "text/plain": [
       "<Figure size 1008x288 with 1 Axes>"
      ]
     },
     "metadata": {},
     "output_type": "display_data"
    }
   ],
   "source": [
    "plt.figure(figsize = (14, 4))\n",
    "plt.hist(x = df_in['loyal'], color = '#2ECC71')\n",
    "plt.title('loyalty')\n",
    "plt.show()"
   ]
  },
  {
   "cell_type": "code",
   "execution_count": 11,
   "id": "f6c0c0db",
   "metadata": {},
   "outputs": [],
   "source": [
    "loyal = df_in[df_in['loyal'] == 1]"
   ]
  },
  {
   "cell_type": "code",
   "execution_count": 12,
   "id": "303355aa",
   "metadata": {},
   "outputs": [],
   "source": [
    "loyal = pd.DataFrame(loyal.mean()).T.drop(columns = 'loyal')"
   ]
  },
  {
   "cell_type": "code",
   "execution_count": 13,
   "id": "c286d346",
   "metadata": {},
   "outputs": [
    {
     "data": {
      "text/html": [
       "<div>\n",
       "<style scoped>\n",
       "    .dataframe tbody tr th:only-of-type {\n",
       "        vertical-align: middle;\n",
       "    }\n",
       "\n",
       "    .dataframe tbody tr th {\n",
       "        vertical-align: top;\n",
       "    }\n",
       "\n",
       "    .dataframe thead th {\n",
       "        text-align: right;\n",
       "    }\n",
       "</style>\n",
       "<table border=\"1\" class=\"dataframe\">\n",
       "  <thead>\n",
       "    <tr style=\"text-align: right;\">\n",
       "      <th></th>\n",
       "      <th>productRate</th>\n",
       "      <th>priceRate</th>\n",
       "      <th>promoRate</th>\n",
       "      <th>ambianceRate</th>\n",
       "      <th>wifiRate</th>\n",
       "      <th>serviceRate</th>\n",
       "      <th>chooseRate</th>\n",
       "    </tr>\n",
       "  </thead>\n",
       "  <tbody>\n",
       "    <tr>\n",
       "      <th>0</th>\n",
       "      <td>6.26087</td>\n",
       "      <td>3.913043</td>\n",
       "      <td>7.73913</td>\n",
       "      <td>6.869565</td>\n",
       "      <td>6.086957</td>\n",
       "      <td>7.217391</td>\n",
       "      <td>5.652174</td>\n",
       "    </tr>\n",
       "  </tbody>\n",
       "</table>\n",
       "</div>"
      ],
      "text/plain": [
       "   productRate  priceRate  promoRate  ambianceRate  wifiRate  serviceRate  \\\n",
       "0      6.26087   3.913043    7.73913      6.869565  6.086957     7.217391   \n",
       "\n",
       "   chooseRate  \n",
       "0    5.652174  "
      ]
     },
     "execution_count": 13,
     "metadata": {},
     "output_type": "execute_result"
    }
   ],
   "source": [
    "loyal"
   ]
  },
  {
   "cell_type": "markdown",
   "id": "2eb5010e",
   "metadata": {},
   "source": [
    "Based on the radar chart analysis, it becomes evident that **loyal** clients highly **value promotional offers** and excellent **service**, while the aspect with the **lowest** rating is the **pricing**."
   ]
  },
  {
   "cell_type": "code",
   "execution_count": 14,
   "id": "3a179af1",
   "metadata": {},
   "outputs": [
    {
     "data": {
      "image/png": "[encoded data removed]",
      "text/plain": [
       "<Figure size 1296x576 with 1 Axes>"
      ]
     },
     "metadata": {},
     "output_type": "display_data"
    }
   ],
   "source": [
    "plt.figure(figsize = (18, 8))\n",
    "\n",
    "# Set data\n",
    "df = loyal\n",
    " \n",
    "# number of variable\n",
    "categories=list(df.columns)\n",
    "N = len(categories)\n",
    " \n",
    "# We are going to plot the first line of the data frame.\n",
    "# But we need to repeat the first value to close the circular graph:\n",
    "values=df.loc[0].values.flatten().tolist()\n",
    "values += values[:1]\n",
    "values\n",
    " \n",
    "# What will be the angle of each axis in the plot? (we divide the plot / number of variable)\n",
    "angles = [n / float(N) * 2 * pi for n in range(N)]\n",
    "angles += angles[:1]\n",
    " \n",
    "# Initialise the spider plot\n",
    "ax = plt.subplot(111, polar=True)\n",
    " \n",
    "# Draw one axe per variable + add labels\n",
    "plt.xticks(angles[:-1], categories, color='black', size=9)\n",
    " \n",
    "# Draw ylabels\n",
    "ax.set_rlabel_position(0)\n",
    "plt.yticks([0, 1, 2, 3, 4, 5, 6, 7, 8, 9, 10], \n",
    "           [\"0\",\"1\", \"2\", \"3\", \"4\",\"5\", \"6\", \"7\", \"8\", \"9\", \"10\"], \n",
    "           color=\"black\", \n",
    "           size=7)\n",
    "plt.ylim(0, 11)\n",
    " \n",
    "# Plot data\n",
    "ax.plot(angles, values, linewidth=1, linestyle='solid')\n",
    " \n",
    "# Fill area\n",
    "ax.fill(angles, values, 'b', alpha=0.2)\n",
    "\n",
    "# Show the graph\n",
    "plt.show()"
   ]
  },
  {
   "cell_type": "markdown",
   "id": "d6dace57",
   "metadata": {},
   "source": [
    "*Split the data - train & test*"
   ]
  },
  {
   "cell_type": "code",
   "execution_count": 15,
   "id": "80afd71d",
   "metadata": {},
   "outputs": [],
   "source": [
    "df_train, df_test = train_test_split(df_in, train_size = 0.8, random_state = 42, shuffle = True)"
   ]
  },
  {
   "cell_type": "code",
   "execution_count": 16,
   "id": "c66625f0",
   "metadata": {},
   "outputs": [
    {
     "data": {
      "text/html": [
       "<div>\n",
       "<style scoped>\n",
       "    .dataframe tbody tr th:only-of-type {\n",
       "        vertical-align: middle;\n",
       "    }\n",
       "\n",
       "    .dataframe tbody tr th {\n",
       "        vertical-align: top;\n",
       "    }\n",
       "\n",
       "    .dataframe thead th {\n",
       "        text-align: right;\n",
       "    }\n",
       "</style>\n",
       "<table border=\"1\" class=\"dataframe\">\n",
       "  <thead>\n",
       "    <tr style=\"text-align: right;\">\n",
       "      <th></th>\n",
       "      <th>productRate</th>\n",
       "      <th>priceRate</th>\n",
       "      <th>promoRate</th>\n",
       "      <th>ambianceRate</th>\n",
       "      <th>wifiRate</th>\n",
       "      <th>serviceRate</th>\n",
       "      <th>chooseRate</th>\n",
       "      <th>loyal</th>\n",
       "    </tr>\n",
       "  </thead>\n",
       "  <tbody>\n",
       "    <tr>\n",
       "      <th>31</th>\n",
       "      <td>8</td>\n",
       "      <td>6</td>\n",
       "      <td>6</td>\n",
       "      <td>6</td>\n",
       "      <td>4</td>\n",
       "      <td>6</td>\n",
       "      <td>8</td>\n",
       "      <td>0</td>\n",
       "    </tr>\n",
       "  </tbody>\n",
       "</table>\n",
       "</div>"
      ],
      "text/plain": [
       "    productRate  priceRate  promoRate  ambianceRate  wifiRate  serviceRate  \\\n",
       "31            8          6          6             6         4            6   \n",
       "\n",
       "    chooseRate  loyal  \n",
       "31           8      0  "
      ]
     },
     "execution_count": 16,
     "metadata": {},
     "output_type": "execute_result"
    }
   ],
   "source": [
    "df_train.head(1)"
   ]
  },
  {
   "cell_type": "code",
   "execution_count": 17,
   "id": "f96c18ad",
   "metadata": {},
   "outputs": [],
   "source": [
    "# train\n",
    "X_train = df_train.drop(columns = ['loyal'], inplace = False)\n",
    "y_train = df_train['loyal']\n",
    "\n",
    "# test\n",
    "X_test = df_test.drop(columns = ['loyal'], inplace = False)\n",
    "y_test = df_test['loyal']"
   ]
  },
  {
   "cell_type": "code",
   "execution_count": 18,
   "id": "d5e30194",
   "metadata": {},
   "outputs": [
    {
     "name": "stdout",
     "output_type": "stream",
     "text": [
      "train-len:  90\n",
      "test-len:  23\n"
     ]
    }
   ],
   "source": [
    "print('train-len: ', len(df_train))\n",
    "print('test-len: ', len(df_test))"
   ]
  },
  {
   "cell_type": "markdown",
   "id": "8cc0e75e",
   "metadata": {},
   "source": [
    "Fortunately, this dataset does not contain any missing values, eliminating the need for imputation techniques. Additionally, as part of the initial preprocessing steps, we have already performed data scaling, which ensures that the features are appropriately scaled and eliminates the necessity for standard scaling. This allows us to proceed directly with the subsequent stages of analysis and modeling."
   ]
  },
  {
   "cell_type": "code",
   "execution_count": 19,
   "id": "6c01adf6",
   "metadata": {},
   "outputs": [
    {
     "data": {
      "text/plain": [
       "productRate     0\n",
       "priceRate       0\n",
       "promoRate       0\n",
       "ambianceRate    0\n",
       "wifiRate        0\n",
       "serviceRate     0\n",
       "chooseRate      0\n",
       "dtype: int64"
      ]
     },
     "execution_count": 19,
     "metadata": {},
     "output_type": "execute_result"
    }
   ],
   "source": [
    "X_train.isnull().sum()"
   ]
  },
  {
   "cell_type": "code",
   "execution_count": 20,
   "id": "3b4c1072",
   "metadata": {},
   "outputs": [
    {
     "data": {
      "text/plain": [
       "0"
      ]
     },
     "execution_count": 20,
     "metadata": {},
     "output_type": "execute_result"
    }
   ],
   "source": [
    "y_train.isnull().sum()"
   ]
  },
  {
   "cell_type": "markdown",
   "id": "064a0340",
   "metadata": {},
   "source": [
    "In approaching this problem, we aim to frame it as a classification task with the objective of identifying loyal and non-loyal clients. To achieve this, we will employ three distinct algorithms: logistic regression, support vector machine, and Stochastic Gradient Descent (SGD).\n",
    "\n",
    "Finally, we will compare the models to determine which one best generalizes the behavior of the consumers."
   ]
  },
  {
   "cell_type": "code",
   "execution_count": 21,
   "id": "ff2cd4d7",
   "metadata": {
    "scrolled": false
   },
   "outputs": [],
   "source": [
    "clfs, grid = define_clfs_params()"
   ]
  },
  {
   "cell_type": "code",
   "execution_count": 22,
   "id": "8c1b4358",
   "metadata": {
    "scrolled": false
   },
   "outputs": [],
   "source": [
    "results = clf_loop(clfs, grid, X_train, y_train, X_test, y_test)"
   ]
  },
  {
   "cell_type": "markdown",
   "id": "74273cad",
   "metadata": {},
   "source": [
    "Based on our current analysis, the `Support Vector Machine (SVM)` emerges as the optimal model, exhibiting a C value of 0.01 and a degree of 3. Initially, the model's AUC-ROC performance was around 0.5. However, through a rigorous cross-validation grid, we were able to significantly enhance its AUC-ROC score, achieving an improved value of 0.62. This outcome demonstrates the effectiveness of the SVM with the selected hyperparameters and highlights the importance of thorough evaluation and fine-tuning to enhance our predictive capabilities.\n",
    "<br><br><br>\n",
    "The `Area Under the ROC Curve (ROC-AUC)` measures the model's ability to distinguish between the two classes, regardless of the classification threshold.\n",
    "<br><br>\n",
    "Advantages:\n",
    "- It is useful when classes are imbalanced since it is not affected by the class distribution and provides an aggregated measure of model performance.\n",
    "- It is a robust metric widely used in various fields.\n",
    "\n",
    "Disadvantages:\n",
    "- It does not consider the actual data distribution and can be misleading if there is class imbalance."
   ]
  },
  {
   "cell_type": "code",
   "execution_count": 23,
   "id": "ec070bdc",
   "metadata": {},
   "outputs": [
    {
     "data": {
      "text/html": [
       "<div>\n",
       "<style scoped>\n",
       "    .dataframe tbody tr th:only-of-type {\n",
       "        vertical-align: middle;\n",
       "    }\n",
       "\n",
       "    .dataframe tbody tr th {\n",
       "        vertical-align: top;\n",
       "    }\n",
       "\n",
       "    .dataframe thead th {\n",
       "        text-align: right;\n",
       "    }\n",
       "</style>\n",
       "<table border=\"1\" class=\"dataframe\">\n",
       "  <thead>\n",
       "    <tr style=\"text-align: right;\">\n",
       "      <th></th>\n",
       "      <th>model</th>\n",
       "      <th>clf</th>\n",
       "      <th>score</th>\n",
       "      <th>auc-roc</th>\n",
       "      <th>score with grid</th>\n",
       "      <th>auc-roc with grid</th>\n",
       "      <th>best parameters</th>\n",
       "    </tr>\n",
       "  </thead>\n",
       "  <tbody>\n",
       "    <tr>\n",
       "      <th>0</th>\n",
       "      <td>LR</td>\n",
       "      <td>LogisticRegression(C=0.05, penalty='l1', rando...</td>\n",
       "      <td>0.869565</td>\n",
       "      <td>0.5</td>\n",
       "      <td>0.826087</td>\n",
       "      <td>0.475</td>\n",
       "      <td>{'C': 10, 'penalty': 'l1'}</td>\n",
       "    </tr>\n",
       "    <tr>\n",
       "      <th>1</th>\n",
       "      <td>SVM</td>\n",
       "      <td>SVC(kernel='poly', probability=True, random_st...</td>\n",
       "      <td>0.73913</td>\n",
       "      <td>0.566667</td>\n",
       "      <td>0.826087</td>\n",
       "      <td>0.616667</td>\n",
       "      <td>{'C': 0.01, 'degree': 3}</td>\n",
       "    </tr>\n",
       "    <tr>\n",
       "      <th>2</th>\n",
       "      <td>SGD</td>\n",
       "      <td>SGDClassifier(alpha=0.01, loss='modified_huber')</td>\n",
       "      <td>0.304348</td>\n",
       "      <td>0.6</td>\n",
       "      <td>0.521739</td>\n",
       "      <td>0.583333</td>\n",
       "      <td>{'alpha': 1e-05, 'loss': 'perceptron', 'penalt...</td>\n",
       "    </tr>\n",
       "  </tbody>\n",
       "</table>\n",
       "</div>"
      ],
      "text/plain": [
       "  model                                                clf     score  \\\n",
       "0    LR  LogisticRegression(C=0.05, penalty='l1', rando...  0.869565   \n",
       "1   SVM  SVC(kernel='poly', probability=True, random_st...   0.73913   \n",
       "2   SGD   SGDClassifier(alpha=0.01, loss='modified_huber')  0.304348   \n",
       "\n",
       "    auc-roc score with grid auc-roc with grid  \\\n",
       "0       0.5        0.826087             0.475   \n",
       "1  0.566667        0.826087          0.616667   \n",
       "2       0.6        0.521739          0.583333   \n",
       "\n",
       "                                     best parameters  \n",
       "0                         {'C': 10, 'penalty': 'l1'}  \n",
       "1                           {'C': 0.01, 'degree': 3}  \n",
       "2  {'alpha': 1e-05, 'loss': 'perceptron', 'penalt...  "
      ]
     },
     "execution_count": 23,
     "metadata": {},
     "output_type": "execute_result"
    }
   ],
   "source": [
    "results"
   ]
  },
  {
   "cell_type": "markdown",
   "id": "60f6cdbd",
   "metadata": {},
   "source": [
    "To assess the model's efficiency, we will proceed with plotting the recall-precision curve."
   ]
  },
  {
   "cell_type": "code",
   "execution_count": 24,
   "id": "6b8c24e9",
   "metadata": {},
   "outputs": [],
   "source": [
    "svm_c = svm.SVC(kernel = 'poly', \n",
    "                C = 0.01,\n",
    "                degree = 3, \n",
    "                probability = True, \n",
    "                random_state = 42)"
   ]
  },
  {
   "cell_type": "code",
   "execution_count": 25,
   "id": "59419542",
   "metadata": {},
   "outputs": [
    {
     "data": {
      "text/html": [
       "<style>#sk-container-id-1 {color: black;}#sk-container-id-1 pre{padding: 0;}#sk-container-id-1 div.sk-toggleable {background-color: white;}#sk-container-id-1 label.sk-toggleable__label {cursor: pointer;display: block;width: 100%;margin-bottom: 0;padding: 0.3em;box-sizing: border-box;text-align: center;}#sk-container-id-1 label.sk-toggleable__label-arrow:before {content: \"▸\";float: left;margin-right: 0.25em;color: #696969;}#sk-container-id-1 label.sk-toggleable__label-arrow:hover:before {color: black;}#sk-container-id-1 div.sk-estimator:hover label.sk-toggleable__label-arrow:before {color: black;}#sk-container-id-1 div.sk-toggleable__content {max-height: 0;max-width: 0;overflow: hidden;text-align: left;background-color: #f0f8ff;}#sk-container-id-1 div.sk-toggleable__content pre {margin: 0.2em;color: black;border-radius: 0.25em;background-color: #f0f8ff;}#sk-container-id-1 input.sk-toggleable__control:checked~div.sk-toggleable__content {max-height: 200px;max-width: 100%;overflow: auto;}#sk-container-id-1 input.sk-toggleable__control:checked~label.sk-toggleable__label-arrow:before {content: \"▾\";}#sk-container-id-1 div.sk-estimator input.sk-toggleable__control:checked~label.sk-toggleable__label {background-color: #d4ebff;}#sk-container-id-1 div.sk-label input.sk-toggleable__control:checked~label.sk-toggleable__label {background-color: #d4ebff;}#sk-container-id-1 input.sk-hidden--visually {border: 0;clip: rect(1px 1px 1px 1px);clip: rect(1px, 1px, 1px, 1px);height: 1px;margin: -1px;overflow: hidden;padding: 0;position: absolute;width: 1px;}#sk-container-id-1 div.sk-estimator {font-family: monospace;background-color: #f0f8ff;border: 1px dotted black;border-radius: 0.25em;box-sizing: border-box;margin-bottom: 0.5em;}#sk-container-id-1 div.sk-estimator:hover {background-color: #d4ebff;}#sk-container-id-1 div.sk-parallel-item::after {content: \"\";width: 100%;border-bottom: 1px solid gray;flex-grow: 1;}#sk-container-id-1 div.sk-label:hover label.sk-toggleable__label {background-color: #d4ebff;}#sk-container-id-1 div.sk-serial::before {content: \"\";position: absolute;border-left: 1px solid gray;box-sizing: border-box;top: 0;bottom: 0;left: 50%;z-index: 0;}#sk-container-id-1 div.sk-serial {display: flex;flex-direction: column;align-items: center;background-color: white;padding-right: 0.2em;padding-left: 0.2em;position: relative;}#sk-container-id-1 div.sk-item {position: relative;z-index: 1;}#sk-container-id-1 div.sk-parallel {display: flex;align-items: stretch;justify-content: center;background-color: white;position: relative;}#sk-container-id-1 div.sk-item::before, #sk-container-id-1 div.sk-parallel-item::before {content: \"\";position: absolute;border-left: 1px solid gray;box-sizing: border-box;top: 0;bottom: 0;left: 50%;z-index: -1;}#sk-container-id-1 div.sk-parallel-item {display: flex;flex-direction: column;z-index: 1;position: relative;background-color: white;}#sk-container-id-1 div.sk-parallel-item:first-child::after {align-self: flex-end;width: 50%;}#sk-container-id-1 div.sk-parallel-item:last-child::after {align-self: flex-start;width: 50%;}#sk-container-id-1 div.sk-parallel-item:only-child::after {width: 0;}#sk-container-id-1 div.sk-dashed-wrapped {border: 1px dashed gray;margin: 0 0.4em 0.5em 0.4em;box-sizing: border-box;padding-bottom: 0.4em;background-color: white;}#sk-container-id-1 div.sk-label label {font-family: monospace;font-weight: bold;display: inline-block;line-height: 1.2em;}#sk-container-id-1 div.sk-label-container {text-align: center;}#sk-container-id-1 div.sk-container {/* jupyter's `normalize.less` sets `[hidden] { display: none; }` but bootstrap.min.css set `[hidden] { display: none !important; }` so we also need the `!important` here to be able to override the default hidden behavior on the sphinx rendered scikit-learn.org. See: https://github.com/scikit-learn/scikit-learn/issues/21755 */display: inline-block !important;position: relative;}#sk-container-id-1 div.sk-text-repr-fallback {display: none;}</style><div id=\"sk-container-id-1\" class=\"sk-top-container\"><div class=\"sk-text-repr-fallback\"><pre>SVC(C=0.01, kernel=&#x27;poly&#x27;, probability=True, random_state=42)</pre><b>In a Jupyter environment, please rerun this cell to show the HTML representation or trust the notebook. <br />On GitHub, the HTML representation is unable to render, please try loading this page with nbviewer.org.</b></div><div class=\"sk-container\" hidden><div class=\"sk-item\"><div class=\"sk-estimator sk-toggleable\"><input class=\"sk-toggleable__control sk-hidden--visually\" id=\"sk-estimator-id-1\" type=\"checkbox\" checked><label for=\"sk-estimator-id-1\" class=\"sk-toggleable__label sk-toggleable__label-arrow\">SVC</label><div class=\"sk-toggleable__content\"><pre>SVC(C=0.01, kernel=&#x27;poly&#x27;, probability=True, random_state=42)</pre></div></div></div></div></div>"
      ],
      "text/plain": [
       "SVC(C=0.01, kernel='poly', probability=True, random_state=42)"
      ]
     },
     "execution_count": 25,
     "metadata": {},
     "output_type": "execute_result"
    }
   ],
   "source": [
    "svm_c.fit(X_train, y_train)"
   ]
  },
  {
   "cell_type": "code",
   "execution_count": 26,
   "id": "d52c3ada",
   "metadata": {},
   "outputs": [],
   "source": [
    "y_scores = cross_val_predict(svm_c, X_train, y_train, cv = 3)"
   ]
  },
  {
   "cell_type": "code",
   "execution_count": 27,
   "id": "bb959fb5",
   "metadata": {},
   "outputs": [
    {
     "data": {
      "text/plain": [
       "(90,)"
      ]
     },
     "execution_count": 27,
     "metadata": {},
     "output_type": "execute_result"
    }
   ],
   "source": [
    "y_scores.shape"
   ]
  },
  {
   "cell_type": "code",
   "execution_count": 28,
   "id": "18584d40",
   "metadata": {},
   "outputs": [],
   "source": [
    "precisions, recalls, thresholds = precision_recall_curve(y_train, y_scores)"
   ]
  },
  {
   "cell_type": "code",
   "execution_count": 29,
   "id": "f99a82f9",
   "metadata": {},
   "outputs": [
    {
     "data": {
      "image/png": "[encoded data removed]",
      "text/plain": [
       "<Figure size 1152x288 with 1 Axes>"
      ]
     },
     "metadata": {},
     "output_type": "display_data"
    }
   ],
   "source": [
    "plt.figure(figsize = (16, 4))\n",
    "plot_precision_vs_recall(precisions, recalls)\n",
    "plt.show()"
   ]
  },
  {
   "cell_type": "code",
   "execution_count": 30,
   "id": "1791abd3",
   "metadata": {},
   "outputs": [
    {
     "data": {
      "text/plain": [
       "0.4444444444444444"
      ]
     },
     "execution_count": 30,
     "metadata": {},
     "output_type": "execute_result"
    }
   ],
   "source": [
    "precision_score(y_train, y_scores)"
   ]
  },
  {
   "cell_type": "code",
   "execution_count": 31,
   "id": "bfd95c2b",
   "metadata": {},
   "outputs": [
    {
     "data": {
      "text/plain": [
       "0.4"
      ]
     },
     "execution_count": 31,
     "metadata": {},
     "output_type": "execute_result"
    }
   ],
   "source": [
    "recall_score(y_train, y_scores)"
   ]
  },
  {
   "cell_type": "code",
   "execution_count": 32,
   "id": "ad2bd7a9",
   "metadata": {},
   "outputs": [],
   "source": [
    "fpr, tpr, thersholds = roc_curve(y_train, y_scores)"
   ]
  },
  {
   "cell_type": "code",
   "execution_count": 33,
   "id": "f8333904",
   "metadata": {},
   "outputs": [
    {
     "data": {
      "image/png": "[encoded data removed]",
      "text/plain": [
       "<Figure size 1152x288 with 1 Axes>"
      ]
     },
     "metadata": {},
     "output_type": "display_data"
    }
   ],
   "source": [
    "plt.figure(figsize = (16,4))\n",
    "plot_roc_curve(fpr, tpr)\n",
    "plt.show()"
   ]
  },
  {
   "cell_type": "code",
   "execution_count": null,
   "id": "fa24abdc",
   "metadata": {},
   "outputs": [],
   "source": []
  }
 ],
 "metadata": {
  "kernelspec": {
   "display_name": "Python 3 (ipykernel)",
   "language": "python",
   "name": "python3"
  },
  "language_info": {
   "codemirror_mode": {
    "name": "ipython",
    "version": 3
   },
   "file_extension": ".py",
   "mimetype": "text/x-python",
   "name": "python",
   "nbconvert_exporter": "python",
   "pygments_lexer": "ipython3",
   "version": "3.9.6"
  }
 },
 "nbformat": 4,
 "nbformat_minor": 5
}
