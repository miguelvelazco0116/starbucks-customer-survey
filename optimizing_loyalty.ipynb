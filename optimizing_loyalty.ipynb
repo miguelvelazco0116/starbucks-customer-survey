{
 "cells": [
  {
   "cell_type": "markdown",
   "id": "5a7907f6",
   "metadata": {},
   "source": [
    "***`Business Context`***,\n",
    "\n",
    "In today's highly competitive market, maximizing **customer loyalty** is a top priority for businesses. Understanding the key **drivers** that hold the most value for customers is crucial in developing effective strategies to enhance loyalty.\n",
    "<br><br>\n",
    "To gain **insights** into customer loyalty, a comprehensive dataset comprising multiple surveys conducted among clients has been compiled. The primary objective is to identify the key **features and factors** that significantly influence customer loyalty.<br>\n",
    "By analyzing this data, businesses can make informed decisions and tailor their offerings to better meet customer needs, ultimately fostering stronger loyalty and long-term customer relationships."
   ]
  },
  {
   "cell_type": "markdown",
   "id": "e74c48cd",
   "metadata": {},
   "source": [
    "*packages*"
   ]
  },
  {
   "cell_type": "code",
   "execution_count": 2,
   "id": "73ff5ae8",
   "metadata": {},
   "outputs": [],
   "source": [
    "# general\n",
    "import psycopg2\n",
    "import pandas as pd\n",
    "from sqlalchemy import create_engine\n",
    "import os, yaml, requests, random, time\n",
    "import numpy as np\n",
    "from math import pi\n",
    "from IPython.display import Image\n",
    "import pickle\n",
    "\n",
    "# shap\n",
    "import shap \n",
    "\n",
    "# optimization\n",
    "import pyomo.environ as pyo\n",
    "\n",
    "# scikitlearn\n",
    "from sklearn.model_selection import train_test_split\n",
    "from sklearn import svm, metrics, decomposition\n",
    "from sklearn.linear_model import LogisticRegression, SGDClassifier\n",
    "from sklearn.model_selection import GridSearchCV\n",
    "from sklearn.model_selection import ParameterGrid\n",
    "from sklearn.metrics import precision_recall_curve\n",
    "from sklearn.metrics import precision_score, recall_score\n",
    "from sklearn.model_selection import cross_val_predict\n",
    "from sklearn.model_selection import cross_val_score\n",
    "from sklearn.metrics import roc_curve\n",
    "from sklearn.metrics import confusion_matrix, classification_report\n",
    "from sklearn.metrics import *\n",
    "\n",
    "# To plot pretty figures\n",
    "%matplotlib inline\n",
    "import seaborn as sns\n",
    "import matplotlib as mpl\n",
    "import matplotlib.pyplot as plt\n",
    "mpl.rc('axes', labelsize=14)\n",
    "mpl.rc('xtick', labelsize=12)\n",
    "mpl.rc('ytick', labelsize=12)\n",
    "plt.style.use('ggplot')"
   ]
  },
  {
   "cell_type": "markdown",
   "id": "b85f6e39",
   "metadata": {},
   "source": [
    "***`load the model`***"
   ]
  },
  {
   "cell_type": "code",
   "execution_count": 13,
   "id": "edddc6f5",
   "metadata": {},
   "outputs": [],
   "source": [
    "with open('model.pkl', 'rb') as file:\n",
    "    model = pickle.load(file)"
   ]
  },
  {
   "cell_type": "code",
   "execution_count": 14,
   "id": "f74912fd",
   "metadata": {},
   "outputs": [
    {
     "data": {
      "text/html": [
       "<style>#sk-container-id-2 {color: black;}#sk-container-id-2 pre{padding: 0;}#sk-container-id-2 div.sk-toggleable {background-color: white;}#sk-container-id-2 label.sk-toggleable__label {cursor: pointer;display: block;width: 100%;margin-bottom: 0;padding: 0.3em;box-sizing: border-box;text-align: center;}#sk-container-id-2 label.sk-toggleable__label-arrow:before {content: \"▸\";float: left;margin-right: 0.25em;color: #696969;}#sk-container-id-2 label.sk-toggleable__label-arrow:hover:before {color: black;}#sk-container-id-2 div.sk-estimator:hover label.sk-toggleable__label-arrow:before {color: black;}#sk-container-id-2 div.sk-toggleable__content {max-height: 0;max-width: 0;overflow: hidden;text-align: left;background-color: #f0f8ff;}#sk-container-id-2 div.sk-toggleable__content pre {margin: 0.2em;color: black;border-radius: 0.25em;background-color: #f0f8ff;}#sk-container-id-2 input.sk-toggleable__control:checked~div.sk-toggleable__content {max-height: 200px;max-width: 100%;overflow: auto;}#sk-container-id-2 input.sk-toggleable__control:checked~label.sk-toggleable__label-arrow:before {content: \"▾\";}#sk-container-id-2 div.sk-estimator input.sk-toggleable__control:checked~label.sk-toggleable__label {background-color: #d4ebff;}#sk-container-id-2 div.sk-label input.sk-toggleable__control:checked~label.sk-toggleable__label {background-color: #d4ebff;}#sk-container-id-2 input.sk-hidden--visually {border: 0;clip: rect(1px 1px 1px 1px);clip: rect(1px, 1px, 1px, 1px);height: 1px;margin: -1px;overflow: hidden;padding: 0;position: absolute;width: 1px;}#sk-container-id-2 div.sk-estimator {font-family: monospace;background-color: #f0f8ff;border: 1px dotted black;border-radius: 0.25em;box-sizing: border-box;margin-bottom: 0.5em;}#sk-container-id-2 div.sk-estimator:hover {background-color: #d4ebff;}#sk-container-id-2 div.sk-parallel-item::after {content: \"\";width: 100%;border-bottom: 1px solid gray;flex-grow: 1;}#sk-container-id-2 div.sk-label:hover label.sk-toggleable__label {background-color: #d4ebff;}#sk-container-id-2 div.sk-serial::before {content: \"\";position: absolute;border-left: 1px solid gray;box-sizing: border-box;top: 0;bottom: 0;left: 50%;z-index: 0;}#sk-container-id-2 div.sk-serial {display: flex;flex-direction: column;align-items: center;background-color: white;padding-right: 0.2em;padding-left: 0.2em;position: relative;}#sk-container-id-2 div.sk-item {position: relative;z-index: 1;}#sk-container-id-2 div.sk-parallel {display: flex;align-items: stretch;justify-content: center;background-color: white;position: relative;}#sk-container-id-2 div.sk-item::before, #sk-container-id-2 div.sk-parallel-item::before {content: \"\";position: absolute;border-left: 1px solid gray;box-sizing: border-box;top: 0;bottom: 0;left: 50%;z-index: -1;}#sk-container-id-2 div.sk-parallel-item {display: flex;flex-direction: column;z-index: 1;position: relative;background-color: white;}#sk-container-id-2 div.sk-parallel-item:first-child::after {align-self: flex-end;width: 50%;}#sk-container-id-2 div.sk-parallel-item:last-child::after {align-self: flex-start;width: 50%;}#sk-container-id-2 div.sk-parallel-item:only-child::after {width: 0;}#sk-container-id-2 div.sk-dashed-wrapped {border: 1px dashed gray;margin: 0 0.4em 0.5em 0.4em;box-sizing: border-box;padding-bottom: 0.4em;background-color: white;}#sk-container-id-2 div.sk-label label {font-family: monospace;font-weight: bold;display: inline-block;line-height: 1.2em;}#sk-container-id-2 div.sk-label-container {text-align: center;}#sk-container-id-2 div.sk-container {/* jupyter's `normalize.less` sets `[hidden] { display: none; }` but bootstrap.min.css set `[hidden] { display: none !important; }` so we also need the `!important` here to be able to override the default hidden behavior on the sphinx rendered scikit-learn.org. See: https://github.com/scikit-learn/scikit-learn/issues/21755 */display: inline-block !important;position: relative;}#sk-container-id-2 div.sk-text-repr-fallback {display: none;}</style><div id=\"sk-container-id-2\" class=\"sk-top-container\"><div class=\"sk-text-repr-fallback\"><pre>RandomForestClassifier(max_depth=10, min_samples_split=5, n_jobs=-1,\n",
       "                       random_state=42)</pre><b>In a Jupyter environment, please rerun this cell to show the HTML representation or trust the notebook. <br />On GitHub, the HTML representation is unable to render, please try loading this page with nbviewer.org.</b></div><div class=\"sk-container\" hidden><div class=\"sk-item\"><div class=\"sk-estimator sk-toggleable\"><input class=\"sk-toggleable__control sk-hidden--visually\" id=\"sk-estimator-id-2\" type=\"checkbox\" checked><label for=\"sk-estimator-id-2\" class=\"sk-toggleable__label sk-toggleable__label-arrow\">RandomForestClassifier</label><div class=\"sk-toggleable__content\"><pre>RandomForestClassifier(max_depth=10, min_samples_split=5, n_jobs=-1,\n",
       "                       random_state=42)</pre></div></div></div></div></div>"
      ],
      "text/plain": [
       "RandomForestClassifier(max_depth=10, min_samples_split=5, n_jobs=-1,\n",
       "                       random_state=42)"
      ]
     },
     "execution_count": 14,
     "metadata": {},
     "output_type": "execute_result"
    }
   ],
   "source": [
    "model"
   ]
  },
  {
   "cell_type": "code",
   "execution_count": 15,
   "id": "db6943d8",
   "metadata": {},
   "outputs": [
    {
     "name": "stdout",
     "output_type": "stream",
     "text": [
      "estimator:  DecisionTreeClassifier()\n",
      "classes:  [0 1]\n",
      "features:  ['productRate' 'priceRate' 'promoRate' 'ambianceRate' 'wifiRate'\n",
      " 'serviceRate' 'chooseRate']\n",
      "feature importances:  [0.16051834 0.29423861 0.1143797  0.12877026 0.06616064 0.05527729\n",
      " 0.18065516]\n"
     ]
    }
   ],
   "source": [
    "print('estimator: ', model.estimator_)\n",
    "print('classes: ', model.classes_)\n",
    "print('features: ', model.feature_names_in_)\n",
    "print('feature importances: ', model.feature_importances_)"
   ]
  },
  {
   "cell_type": "markdown",
   "id": "46f5a3d5",
   "metadata": {},
   "source": [
    "*load the data*"
   ]
  },
  {
   "cell_type": "markdown",
   "id": "e9241bca",
   "metadata": {},
   "source": [
    "`train`"
   ]
  },
  {
   "cell_type": "code",
   "execution_count": 16,
   "id": "6d7ec3b3",
   "metadata": {},
   "outputs": [],
   "source": [
    "X_train = pd.read_csv('X_train.csv').rename(columns = {'Unnamed: 0':'index'}).set_index('index')\n",
    "y_train = pd.read_csv('y_train.csv').rename(columns = {'Unnamed: 0':'index'}).set_index('index')"
   ]
  },
  {
   "cell_type": "markdown",
   "id": "019b387a",
   "metadata": {},
   "source": [
    "`test`"
   ]
  },
  {
   "cell_type": "code",
   "execution_count": 17,
   "id": "3c7f4a83",
   "metadata": {},
   "outputs": [],
   "source": [
    "X_test = pd.read_csv('X_test.csv').rename(columns = {'Unnamed: 0':'index'}).set_index('index')\n",
    "y_test = pd.read_csv('y_test.csv').rename(columns = {'Unnamed: 0':'index'}).set_index('index')"
   ]
  },
  {
   "cell_type": "markdown",
   "id": "d5ef7da7",
   "metadata": {},
   "source": [
    "#### problem optimization"
   ]
  },
  {
   "cell_type": "markdown",
   "id": "43fedaaa",
   "metadata": {},
   "source": [
    "*`sets:`*\n",
    "   - drivers: product, price, promo, ambiance, wifi, service, choose\n",
    "   - surveyed: 113\n",
    "   \n",
    "*`parameters:`*\n",
    "   - price increase\n",
    "   - loyalty\n",
    "   - betas\n",
    "\n",
    "*`output:`*\n",
    "   - loyalty increase"
   ]
  },
  {
   "cell_type": "code",
   "execution_count": 35,
   "id": "899fb713",
   "metadata": {},
   "outputs": [],
   "source": [
    "feature_labels = model.feature_names_in_\n",
    "feature_betas = model.feature_importances_"
   ]
  },
  {
   "cell_type": "code",
   "execution_count": 51,
   "id": "73340bc7",
   "metadata": {},
   "outputs": [],
   "source": [
    "# model\n",
    "model_pyo = pyo.ConcreteModel()\n",
    "\n",
    "model_pyo.sDrivers = pyo.Set(initialize = feature_labels)\n",
    "model_pyo.sSurveyed = pyo.Set(initialize = [i for i in range(X_train.shape[0])])"
   ]
  },
  {
   "cell_type": "code",
   "execution_count": 52,
   "id": "04b459f7",
   "metadata": {},
   "outputs": [],
   "source": [
    "df_perception = X_train.reset_index(drop = True, inplace = False)"
   ]
  },
  {
   "cell_type": "code",
   "execution_count": 53,
   "id": "bddfe7ce",
   "metadata": {},
   "outputs": [
    {
     "data": {
      "text/html": [
       "<div>\n",
       "<style scoped>\n",
       "    .dataframe tbody tr th:only-of-type {\n",
       "        vertical-align: middle;\n",
       "    }\n",
       "\n",
       "    .dataframe tbody tr th {\n",
       "        vertical-align: top;\n",
       "    }\n",
       "\n",
       "    .dataframe thead th {\n",
       "        text-align: right;\n",
       "    }\n",
       "</style>\n",
       "<table border=\"1\" class=\"dataframe\">\n",
       "  <thead>\n",
       "    <tr style=\"text-align: right;\">\n",
       "      <th></th>\n",
       "      <th>productRate</th>\n",
       "      <th>priceRate</th>\n",
       "      <th>promoRate</th>\n",
       "      <th>ambianceRate</th>\n",
       "      <th>wifiRate</th>\n",
       "      <th>serviceRate</th>\n",
       "      <th>chooseRate</th>\n",
       "    </tr>\n",
       "  </thead>\n",
       "  <tbody>\n",
       "    <tr>\n",
       "      <th>0</th>\n",
       "      <td>8</td>\n",
       "      <td>6</td>\n",
       "      <td>6</td>\n",
       "      <td>6</td>\n",
       "      <td>4</td>\n",
       "      <td>6</td>\n",
       "      <td>8</td>\n",
       "    </tr>\n",
       "    <tr>\n",
       "      <th>1</th>\n",
       "      <td>10</td>\n",
       "      <td>2</td>\n",
       "      <td>6</td>\n",
       "      <td>6</td>\n",
       "      <td>4</td>\n",
       "      <td>6</td>\n",
       "      <td>6</td>\n",
       "    </tr>\n",
       "    <tr>\n",
       "      <th>2</th>\n",
       "      <td>6</td>\n",
       "      <td>4</td>\n",
       "      <td>8</td>\n",
       "      <td>6</td>\n",
       "      <td>6</td>\n",
       "      <td>6</td>\n",
       "      <td>8</td>\n",
       "    </tr>\n",
       "    <tr>\n",
       "      <th>3</th>\n",
       "      <td>8</td>\n",
       "      <td>8</td>\n",
       "      <td>10</td>\n",
       "      <td>8</td>\n",
       "      <td>4</td>\n",
       "      <td>6</td>\n",
       "      <td>8</td>\n",
       "    </tr>\n",
       "    <tr>\n",
       "      <th>4</th>\n",
       "      <td>10</td>\n",
       "      <td>4</td>\n",
       "      <td>10</td>\n",
       "      <td>10</td>\n",
       "      <td>4</td>\n",
       "      <td>8</td>\n",
       "      <td>6</td>\n",
       "    </tr>\n",
       "  </tbody>\n",
       "</table>\n",
       "</div>"
      ],
      "text/plain": [
       "   productRate  priceRate  promoRate  ambianceRate  wifiRate  serviceRate  \\\n",
       "0            8          6          6             6         4            6   \n",
       "1           10          2          6             6         4            6   \n",
       "2            6          4          8             6         6            6   \n",
       "3            8          8         10             8         4            6   \n",
       "4           10          4         10            10         4            8   \n",
       "\n",
       "   chooseRate  \n",
       "0           8  \n",
       "1           6  \n",
       "2           8  \n",
       "3           8  \n",
       "4           6  "
      ]
     },
     "execution_count": 53,
     "metadata": {},
     "output_type": "execute_result"
    }
   ],
   "source": [
    "df_perception.head()"
   ]
  },
  {
   "cell_type": "code",
   "execution_count": 54,
   "id": "2f6f782d",
   "metadata": {},
   "outputs": [],
   "source": [
    "model_pyo.pBetas = pyo.Param(model_pyo.sDrivers, initialize = dict(zip(feature_labels, feature_betas)))"
   ]
  },
  {
   "cell_type": "code",
   "execution_count": 55,
   "id": "dfd68f5e",
   "metadata": {},
   "outputs": [
    {
     "name": "stdout",
     "output_type": "stream",
     "text": [
      "pBetas : Size=7, Index=sDrivers, Domain=Any, Default=None, Mutable=False\n",
      "    Key          : Value\n",
      "    ambianceRate : 0.12877025843524212\n",
      "      chooseRate :  0.1806551645660694\n",
      "       priceRate :  0.2942386120604277\n",
      "     productRate : 0.16051833695000436\n",
      "       promoRate : 0.11437969881373418\n",
      "     serviceRate : 0.05527729008139536\n",
      "        wifiRate : 0.06616063909312678\n"
     ]
    }
   ],
   "source": [
    "model_pyo.pBetas.display()"
   ]
  },
  {
   "cell_type": "code",
   "execution_count": 56,
   "id": "95355a4c",
   "metadata": {},
   "outputs": [],
   "source": [
    "def load_perception(model, survey, driver):\n",
    "    return df_perception[driver][survey]"
   ]
  },
  {
   "cell_type": "code",
   "execution_count": 57,
   "id": "4e221d49",
   "metadata": {},
   "outputs": [],
   "source": [
    "model_pyo.pPerception = pyo.Param(model_pyo.sSurveyed, \n",
    "                                  model_pyo.sDrivers, \n",
    "                                  initialize = load_perception)"
   ]
  },
  {
   "cell_type": "code",
   "execution_count": 63,
   "id": "c77c0480",
   "metadata": {},
   "outputs": [
    {
     "name": "stdout",
     "output_type": "stream",
     "text": [
      "((0, 'productRate'), 8)\n"
     ]
    }
   ],
   "source": [
    "for i in model_pyo.pPerception.items():\n",
    "    print(i)\n",
    "    break\n",
    "#i, model_pyo.pPerception[('16', 'productRate')]"
   ]
  },
  {
   "cell_type": "code",
   "execution_count": null,
   "id": "ae6751f0",
   "metadata": {},
   "outputs": [],
   "source": []
  },
  {
   "cell_type": "code",
   "execution_count": null,
   "id": "bece3dd6",
   "metadata": {},
   "outputs": [],
   "source": []
  },
  {
   "cell_type": "code",
   "execution_count": null,
   "id": "d82ed8c0",
   "metadata": {},
   "outputs": [],
   "source": []
  },
  {
   "cell_type": "code",
   "execution_count": null,
   "id": "0927426c",
   "metadata": {},
   "outputs": [],
   "source": []
  }
 ],
 "metadata": {
  "kernelspec": {
   "display_name": "Python 3 (ipykernel)",
   "language": "python",
   "name": "python3"
  },
  "language_info": {
   "codemirror_mode": {
    "name": "ipython",
    "version": 3
   },
   "file_extension": ".py",
   "mimetype": "text/x-python",
   "name": "python",
   "nbconvert_exporter": "python",
   "pygments_lexer": "ipython3",
   "version": "3.9.6"
  }
 },
 "nbformat": 4,
 "nbformat_minor": 5
}
