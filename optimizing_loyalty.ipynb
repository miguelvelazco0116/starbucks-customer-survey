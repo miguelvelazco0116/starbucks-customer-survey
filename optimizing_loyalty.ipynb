{
 "cells": [
  {
   "cell_type": "markdown",
   "id": "5a7907f6",
   "metadata": {},
   "source": [
    "***`Business Context`***,\n",
    "\n",
    "In today's highly competitive market, maximizing **customer loyalty** is a top priority for businesses. Understanding the key **drivers** that hold the most value for customers is crucial in developing effective strategies to enhance loyalty.\n",
    "<br><br>\n",
    "To gain **insights** into customer loyalty, a comprehensive dataset comprising multiple surveys conducted among clients has been compiled. The primary objective is to identify the key **features and factors** that significantly influence customer loyalty.<br>\n",
    "By analyzing this data, businesses can make informed decisions and tailor their offerings to better meet customer needs, ultimately fostering stronger loyalty and long-term customer relationships."
   ]
  },
  {
   "cell_type": "markdown",
   "id": "e74c48cd",
   "metadata": {},
   "source": [
    "*packages*"
   ]
  },
  {
   "cell_type": "code",
   "execution_count": 38,
   "id": "73ff5ae8",
   "metadata": {},
   "outputs": [],
   "source": [
    "# general\n",
    "import psycopg2\n",
    "import pandas as pd\n",
    "from sqlalchemy import create_engine\n",
    "import os, yaml, requests, random, time\n",
    "import numpy as np\n",
    "from math import pi\n",
    "from IPython.display import Image\n",
    "import pickle\n",
    "\n",
    "# shap\n",
    "import shap \n",
    "\n",
    "# DiCE\n",
    "import dice_ml\n",
    "from dice_ml.utils import helpers\n",
    "\n",
    "# optimization\n",
    "import pyomo.environ as pyo\n",
    "from pyomo.opt import SolverFactory\n",
    "\n",
    "# scikitlearn\n",
    "from sklearn.model_selection import train_test_split\n",
    "from sklearn import svm, metrics, decomposition\n",
    "from sklearn.linear_model import LogisticRegression, SGDClassifier\n",
    "from sklearn.model_selection import GridSearchCV\n",
    "from sklearn.model_selection import ParameterGrid\n",
    "from sklearn.metrics import precision_recall_curve\n",
    "from sklearn.metrics import precision_score, recall_score\n",
    "from sklearn.model_selection import cross_val_predict\n",
    "from sklearn.model_selection import cross_val_score\n",
    "from sklearn.metrics import roc_curve\n",
    "from sklearn.metrics import confusion_matrix, classification_report\n",
    "from sklearn.metrics import *\n",
    "\n",
    "# To plot pretty figures\n",
    "%matplotlib inline\n",
    "import seaborn as sns\n",
    "import matplotlib as mpl\n",
    "import matplotlib.pyplot as plt\n",
    "mpl.rc('axes', labelsize=14)\n",
    "mpl.rc('xtick', labelsize=12)\n",
    "mpl.rc('ytick', labelsize=12)\n",
    "plt.style.use('ggplot')"
   ]
  },
  {
   "cell_type": "markdown",
   "id": "b85f6e39",
   "metadata": {},
   "source": [
    "***`load the model`***"
   ]
  },
  {
   "cell_type": "code",
   "execution_count": 2,
   "id": "edddc6f5",
   "metadata": {},
   "outputs": [],
   "source": [
    "with open('model.pkl', 'rb') as file:\n",
    "    model = pickle.load(file)"
   ]
  },
  {
   "cell_type": "code",
   "execution_count": 3,
   "id": "f74912fd",
   "metadata": {},
   "outputs": [
    {
     "data": {
      "text/html": [
       "<style>#sk-container-id-1 {color: black;}#sk-container-id-1 pre{padding: 0;}#sk-container-id-1 div.sk-toggleable {background-color: white;}#sk-container-id-1 label.sk-toggleable__label {cursor: pointer;display: block;width: 100%;margin-bottom: 0;padding: 0.3em;box-sizing: border-box;text-align: center;}#sk-container-id-1 label.sk-toggleable__label-arrow:before {content: \"▸\";float: left;margin-right: 0.25em;color: #696969;}#sk-container-id-1 label.sk-toggleable__label-arrow:hover:before {color: black;}#sk-container-id-1 div.sk-estimator:hover label.sk-toggleable__label-arrow:before {color: black;}#sk-container-id-1 div.sk-toggleable__content {max-height: 0;max-width: 0;overflow: hidden;text-align: left;background-color: #f0f8ff;}#sk-container-id-1 div.sk-toggleable__content pre {margin: 0.2em;color: black;border-radius: 0.25em;background-color: #f0f8ff;}#sk-container-id-1 input.sk-toggleable__control:checked~div.sk-toggleable__content {max-height: 200px;max-width: 100%;overflow: auto;}#sk-container-id-1 input.sk-toggleable__control:checked~label.sk-toggleable__label-arrow:before {content: \"▾\";}#sk-container-id-1 div.sk-estimator input.sk-toggleable__control:checked~label.sk-toggleable__label {background-color: #d4ebff;}#sk-container-id-1 div.sk-label input.sk-toggleable__control:checked~label.sk-toggleable__label {background-color: #d4ebff;}#sk-container-id-1 input.sk-hidden--visually {border: 0;clip: rect(1px 1px 1px 1px);clip: rect(1px, 1px, 1px, 1px);height: 1px;margin: -1px;overflow: hidden;padding: 0;position: absolute;width: 1px;}#sk-container-id-1 div.sk-estimator {font-family: monospace;background-color: #f0f8ff;border: 1px dotted black;border-radius: 0.25em;box-sizing: border-box;margin-bottom: 0.5em;}#sk-container-id-1 div.sk-estimator:hover {background-color: #d4ebff;}#sk-container-id-1 div.sk-parallel-item::after {content: \"\";width: 100%;border-bottom: 1px solid gray;flex-grow: 1;}#sk-container-id-1 div.sk-label:hover label.sk-toggleable__label {background-color: #d4ebff;}#sk-container-id-1 div.sk-serial::before {content: \"\";position: absolute;border-left: 1px solid gray;box-sizing: border-box;top: 0;bottom: 0;left: 50%;z-index: 0;}#sk-container-id-1 div.sk-serial {display: flex;flex-direction: column;align-items: center;background-color: white;padding-right: 0.2em;padding-left: 0.2em;position: relative;}#sk-container-id-1 div.sk-item {position: relative;z-index: 1;}#sk-container-id-1 div.sk-parallel {display: flex;align-items: stretch;justify-content: center;background-color: white;position: relative;}#sk-container-id-1 div.sk-item::before, #sk-container-id-1 div.sk-parallel-item::before {content: \"\";position: absolute;border-left: 1px solid gray;box-sizing: border-box;top: 0;bottom: 0;left: 50%;z-index: -1;}#sk-container-id-1 div.sk-parallel-item {display: flex;flex-direction: column;z-index: 1;position: relative;background-color: white;}#sk-container-id-1 div.sk-parallel-item:first-child::after {align-self: flex-end;width: 50%;}#sk-container-id-1 div.sk-parallel-item:last-child::after {align-self: flex-start;width: 50%;}#sk-container-id-1 div.sk-parallel-item:only-child::after {width: 0;}#sk-container-id-1 div.sk-dashed-wrapped {border: 1px dashed gray;margin: 0 0.4em 0.5em 0.4em;box-sizing: border-box;padding-bottom: 0.4em;background-color: white;}#sk-container-id-1 div.sk-label label {font-family: monospace;font-weight: bold;display: inline-block;line-height: 1.2em;}#sk-container-id-1 div.sk-label-container {text-align: center;}#sk-container-id-1 div.sk-container {/* jupyter's `normalize.less` sets `[hidden] { display: none; }` but bootstrap.min.css set `[hidden] { display: none !important; }` so we also need the `!important` here to be able to override the default hidden behavior on the sphinx rendered scikit-learn.org. See: https://github.com/scikit-learn/scikit-learn/issues/21755 */display: inline-block !important;position: relative;}#sk-container-id-1 div.sk-text-repr-fallback {display: none;}</style><div id=\"sk-container-id-1\" class=\"sk-top-container\"><div class=\"sk-text-repr-fallback\"><pre>RandomForestClassifier(max_depth=10, min_samples_split=5, n_jobs=-1,\n",
       "                       random_state=42)</pre><b>In a Jupyter environment, please rerun this cell to show the HTML representation or trust the notebook. <br />On GitHub, the HTML representation is unable to render, please try loading this page with nbviewer.org.</b></div><div class=\"sk-container\" hidden><div class=\"sk-item\"><div class=\"sk-estimator sk-toggleable\"><input class=\"sk-toggleable__control sk-hidden--visually\" id=\"sk-estimator-id-1\" type=\"checkbox\" checked><label for=\"sk-estimator-id-1\" class=\"sk-toggleable__label sk-toggleable__label-arrow\">RandomForestClassifier</label><div class=\"sk-toggleable__content\"><pre>RandomForestClassifier(max_depth=10, min_samples_split=5, n_jobs=-1,\n",
       "                       random_state=42)</pre></div></div></div></div></div>"
      ],
      "text/plain": [
       "RandomForestClassifier(max_depth=10, min_samples_split=5, n_jobs=-1,\n",
       "                       random_state=42)"
      ]
     },
     "execution_count": 3,
     "metadata": {},
     "output_type": "execute_result"
    }
   ],
   "source": [
    "model"
   ]
  },
  {
   "cell_type": "code",
   "execution_count": 4,
   "id": "db6943d8",
   "metadata": {},
   "outputs": [
    {
     "name": "stdout",
     "output_type": "stream",
     "text": [
      "estimator:  DecisionTreeClassifier()\n",
      "classes:  [0 1]\n",
      "features:  ['productRate' 'priceRate' 'promoRate' 'ambianceRate' 'wifiRate'\n",
      " 'serviceRate' 'chooseRate']\n",
      "feature importances:  [0.16051834 0.29423861 0.1143797  0.12877026 0.06616064 0.05527729\n",
      " 0.18065516]\n"
     ]
    }
   ],
   "source": [
    "print('estimator: ', model.estimator_)\n",
    "print('classes: ', model.classes_)\n",
    "print('features: ', model.feature_names_in_)\n",
    "print('feature importances: ', model.feature_importances_)"
   ]
  },
  {
   "cell_type": "markdown",
   "id": "46f5a3d5",
   "metadata": {},
   "source": [
    "*load the data*"
   ]
  },
  {
   "cell_type": "markdown",
   "id": "e9241bca",
   "metadata": {},
   "source": [
    "`train`"
   ]
  },
  {
   "cell_type": "code",
   "execution_count": 5,
   "id": "6d7ec3b3",
   "metadata": {},
   "outputs": [],
   "source": [
    "X_train = pd.read_csv('X_train.csv').rename(columns = {'Unnamed: 0':'index'}).set_index('index')\n",
    "y_train = pd.read_csv('y_train.csv').rename(columns = {'Unnamed: 0':'index'}).set_index('index')"
   ]
  },
  {
   "cell_type": "markdown",
   "id": "019b387a",
   "metadata": {},
   "source": [
    "`test`"
   ]
  },
  {
   "cell_type": "code",
   "execution_count": 6,
   "id": "3c7f4a83",
   "metadata": {},
   "outputs": [],
   "source": [
    "X_test = pd.read_csv('X_test.csv').rename(columns = {'Unnamed: 0':'index'}).set_index('index')\n",
    "y_test = pd.read_csv('y_test.csv').rename(columns = {'Unnamed: 0':'index'}).set_index('index')"
   ]
  },
  {
   "cell_type": "markdown",
   "id": "b1f31d89",
   "metadata": {},
   "source": [
    "#### problem optimization"
   ]
  },
  {
   "cell_type": "markdown",
   "id": "a02623c9",
   "metadata": {},
   "source": [
    "*`sets:`*\n",
    "   - drivers: product, price, promo, ambiance, wifi, service, choose\n",
    "   - surveyed: 113\n",
    "   \n",
    "*`parameters:`*\n",
    "   - price increase\n",
    "   - loyalty\n",
    "   - betas\n",
    "\n",
    "*`output:`*\n",
    "   - loyalty increase"
   ]
  },
  {
   "cell_type": "code",
   "execution_count": 7,
   "id": "939147ff",
   "metadata": {},
   "outputs": [],
   "source": [
    "feature_labels = model.feature_names_in_\n",
    "feature_betas = model.feature_importances_"
   ]
  },
  {
   "cell_type": "code",
   "execution_count": 8,
   "id": "73340bc7",
   "metadata": {},
   "outputs": [],
   "source": [
    "# model\n",
    "model_pyo = pyo.ConcreteModel()\n",
    "\n",
    "model_pyo.sDrivers = pyo.Set(initialize = feature_labels)\n",
    "model_pyo.sSurveyed = pyo.Set(initialize = [i for i in range(X_train.shape[0])])"
   ]
  },
  {
   "cell_type": "code",
   "execution_count": 9,
   "id": "b7faf914",
   "metadata": {},
   "outputs": [],
   "source": [
    "df_perception = X_train.reset_index(drop = True, inplace = False)"
   ]
  },
  {
   "cell_type": "code",
   "execution_count": 10,
   "id": "209fa46f",
   "metadata": {},
   "outputs": [
    {
     "data": {
      "text/html": [
       "<div>\n",
       "<style scoped>\n",
       "    .dataframe tbody tr th:only-of-type {\n",
       "        vertical-align: middle;\n",
       "    }\n",
       "\n",
       "    .dataframe tbody tr th {\n",
       "        vertical-align: top;\n",
       "    }\n",
       "\n",
       "    .dataframe thead th {\n",
       "        text-align: right;\n",
       "    }\n",
       "</style>\n",
       "<table border=\"1\" class=\"dataframe\">\n",
       "  <thead>\n",
       "    <tr style=\"text-align: right;\">\n",
       "      <th></th>\n",
       "      <th>productRate</th>\n",
       "      <th>priceRate</th>\n",
       "      <th>promoRate</th>\n",
       "      <th>ambianceRate</th>\n",
       "      <th>wifiRate</th>\n",
       "      <th>serviceRate</th>\n",
       "      <th>chooseRate</th>\n",
       "    </tr>\n",
       "  </thead>\n",
       "  <tbody>\n",
       "    <tr>\n",
       "      <th>0</th>\n",
       "      <td>8</td>\n",
       "      <td>6</td>\n",
       "      <td>6</td>\n",
       "      <td>6</td>\n",
       "      <td>4</td>\n",
       "      <td>6</td>\n",
       "      <td>8</td>\n",
       "    </tr>\n",
       "    <tr>\n",
       "      <th>1</th>\n",
       "      <td>10</td>\n",
       "      <td>2</td>\n",
       "      <td>6</td>\n",
       "      <td>6</td>\n",
       "      <td>4</td>\n",
       "      <td>6</td>\n",
       "      <td>6</td>\n",
       "    </tr>\n",
       "    <tr>\n",
       "      <th>2</th>\n",
       "      <td>6</td>\n",
       "      <td>4</td>\n",
       "      <td>8</td>\n",
       "      <td>6</td>\n",
       "      <td>6</td>\n",
       "      <td>6</td>\n",
       "      <td>8</td>\n",
       "    </tr>\n",
       "    <tr>\n",
       "      <th>3</th>\n",
       "      <td>8</td>\n",
       "      <td>8</td>\n",
       "      <td>10</td>\n",
       "      <td>8</td>\n",
       "      <td>4</td>\n",
       "      <td>6</td>\n",
       "      <td>8</td>\n",
       "    </tr>\n",
       "    <tr>\n",
       "      <th>4</th>\n",
       "      <td>10</td>\n",
       "      <td>4</td>\n",
       "      <td>10</td>\n",
       "      <td>10</td>\n",
       "      <td>4</td>\n",
       "      <td>8</td>\n",
       "      <td>6</td>\n",
       "    </tr>\n",
       "  </tbody>\n",
       "</table>\n",
       "</div>"
      ],
      "text/plain": [
       "   productRate  priceRate  promoRate  ambianceRate  wifiRate  serviceRate  \\\n",
       "0            8          6          6             6         4            6   \n",
       "1           10          2          6             6         4            6   \n",
       "2            6          4          8             6         6            6   \n",
       "3            8          8         10             8         4            6   \n",
       "4           10          4         10            10         4            8   \n",
       "\n",
       "   chooseRate  \n",
       "0           8  \n",
       "1           6  \n",
       "2           8  \n",
       "3           8  \n",
       "4           6  "
      ]
     },
     "execution_count": 10,
     "metadata": {},
     "output_type": "execute_result"
    }
   ],
   "source": [
    "df_perception.head()"
   ]
  },
  {
   "cell_type": "code",
   "execution_count": 11,
   "id": "2f6f782d",
   "metadata": {},
   "outputs": [],
   "source": [
    "model_pyo.pBetas = pyo.Param(model_pyo.sDrivers, initialize = dict(zip(feature_labels, feature_betas)))"
   ]
  },
  {
   "cell_type": "code",
   "execution_count": 12,
   "id": "076ed187",
   "metadata": {},
   "outputs": [
    {
     "name": "stdout",
     "output_type": "stream",
     "text": [
      "pBetas : Size=7, Index=sDrivers, Domain=Any, Default=None, Mutable=False\n",
      "    Key          : Value\n",
      "    ambianceRate : 0.12877025843524212\n",
      "      chooseRate :  0.1806551645660694\n",
      "       priceRate :  0.2942386120604277\n",
      "     productRate : 0.16051833695000436\n",
      "       promoRate : 0.11437969881373418\n",
      "     serviceRate : 0.05527729008139536\n",
      "        wifiRate : 0.06616063909312678\n"
     ]
    }
   ],
   "source": [
    "model_pyo.pBetas.display()"
   ]
  },
  {
   "cell_type": "code",
   "execution_count": 13,
   "id": "f9cac839",
   "metadata": {},
   "outputs": [],
   "source": [
    "def load_perception(model, survey, driver):\n",
    "    return df_perception[driver][survey]"
   ]
  },
  {
   "cell_type": "code",
   "execution_count": 14,
   "id": "9f8acd4f",
   "metadata": {},
   "outputs": [],
   "source": [
    "model_pyo.pPerception = pyo.Param(model_pyo.sSurveyed, \n",
    "                                  model_pyo.sDrivers, \n",
    "                                  initialize = load_perception)"
   ]
  },
  {
   "cell_type": "code",
   "execution_count": 15,
   "id": "6923a917",
   "metadata": {},
   "outputs": [
    {
     "name": "stdout",
     "output_type": "stream",
     "text": [
      "((0, 'productRate'), 8)\n"
     ]
    }
   ],
   "source": [
    "for i in model_pyo.pPerception.items():\n",
    "    print(i)\n",
    "    break"
   ]
  },
  {
   "cell_type": "markdown",
   "id": "01f1ffab",
   "metadata": {},
   "source": [
    "In our marketing initiatives, we are allocating a specific budget to enhance customer loyalty through targeted and strategic marketing programs. For the purpose of this example, we have set aside a budget of $2500 USD. Our aim is to drive significant improvements in loyalty metrics, with a maximum increase of 40 points for each loyalty driver. \n",
    "<br><br>\n",
    "Ultimately, this could result in a cumulative increase of up to 210 points across all loyalty drivers. By efficiently utilizing this budget, we are determined to create impactful campaigns that cultivate stronger customer loyalty and foster lasting relationships with our brand.\n",
    "<br><br><br>\n",
    "The incremental cost required to improve each driver by 1 point is as follows:\n",
    " - *ambiance:* **100 usd**\n",
    " - *price:* **330 usd**\n",
    " - *product:* **310 usd**\n",
    " - *promo:* **160 usd**\n",
    " - *service:* **260 usd**\n",
    " - *wifi:* **100 usd**\n",
    " - *choose:* **460 usd**"
   ]
  },
  {
   "cell_type": "code",
   "execution_count": 16,
   "id": "d6dcc044",
   "metadata": {},
   "outputs": [],
   "source": [
    "model_pyo.pPriceIncrease = pyo.Param(model_pyo.sDrivers, \n",
    "                                 initialize = dict(zip(feature_labels, [310, 330, 160, 100, 265, 260, 460])))"
   ]
  },
  {
   "cell_type": "code",
   "execution_count": 17,
   "id": "fa9bba71",
   "metadata": {},
   "outputs": [
    {
     "name": "stdout",
     "output_type": "stream",
     "text": [
      "pPriceIncrease : Size=7, Index=sDrivers, Domain=Any, Default=None, Mutable=False\n",
      "    Key          : Value\n",
      "    ambianceRate :   100\n",
      "      chooseRate :   460\n",
      "       priceRate :   330\n",
      "     productRate :   310\n",
      "       promoRate :   160\n",
      "     serviceRate :   260\n",
      "        wifiRate :   265\n"
     ]
    }
   ],
   "source": [
    "model_pyo.pPriceIncrease.display()"
   ]
  },
  {
   "cell_type": "code",
   "execution_count": 18,
   "id": "c29afb65",
   "metadata": {},
   "outputs": [],
   "source": [
    "model_pyo.vLoyaltyIncrease = pyo.Var(model_pyo.sDrivers, \n",
    "                                     domain = pyo.NonNegativeIntegers,\n",
    "                                     bounds = (0, 40))"
   ]
  },
  {
   "cell_type": "code",
   "execution_count": 19,
   "id": "169b8340",
   "metadata": {},
   "outputs": [
    {
     "name": "stdout",
     "output_type": "stream",
     "text": [
      "vLoyaltyIncrease : Size=7, Index=sDrivers\n",
      "    Key          : Lower : Value : Upper : Fixed : Stale : Domain\n",
      "    ambianceRate :     0 :  None :    40 : False :  True : NonNegativeIntegers\n",
      "      chooseRate :     0 :  None :    40 : False :  True : NonNegativeIntegers\n",
      "       priceRate :     0 :  None :    40 : False :  True : NonNegativeIntegers\n",
      "     productRate :     0 :  None :    40 : False :  True : NonNegativeIntegers\n",
      "       promoRate :     0 :  None :    40 : False :  True : NonNegativeIntegers\n",
      "     serviceRate :     0 :  None :    40 : False :  True : NonNegativeIntegers\n",
      "        wifiRate :     0 :  None :    40 : False :  True : NonNegativeIntegers\n"
     ]
    }
   ],
   "source": [
    "model_pyo.vLoyaltyIncrease.display()"
   ]
  },
  {
   "cell_type": "code",
   "execution_count": 20,
   "id": "1d2ee888",
   "metadata": {},
   "outputs": [],
   "source": [
    "budget = 2500\n",
    "\n",
    "model_pyo.ctBudget = pyo.Constraint(expr = pyo.quicksum(model_pyo.vLoyaltyIncrease[i]*model_pyo.pPriceIncrease[i]\\\n",
    "                                                        for i in model_pyo.sDrivers)<=budget)"
   ]
  },
  {
   "cell_type": "code",
   "execution_count": 21,
   "id": "bb0be4de",
   "metadata": {},
   "outputs": [],
   "source": [
    "model_pyo.obj = pyo.Objective(sense = pyo.maximize,\n",
    "                              expr = pyo.quicksum((0.1*model_pyo.vLoyaltyIncrease[j] + model_pyo.pPerception[(i, j)])*model_pyo.pBetas[j]\\\n",
    "                                                 for i in model_pyo.sSurveyed for j in model_pyo.sDrivers))"
   ]
  },
  {
   "cell_type": "code",
   "execution_count": 22,
   "id": "72a6def4",
   "metadata": {},
   "outputs": [],
   "source": [
    "opt = SolverFactory(\"glpk\")"
   ]
  },
  {
   "cell_type": "code",
   "execution_count": 23,
   "id": "b7f6a2bc",
   "metadata": {},
   "outputs": [
    {
     "data": {
      "text/plain": [
       "{'Problem': [{'Name': 'unknown', 'Lower bound': 650.037269950889, 'Upper bound': 650.037269950889, 'Number of objectives': 1, 'Number of constraints': 1, 'Number of variables': 8, 'Number of nonzeros': 7, 'Sense': 'maximize'}], 'Solver': [{'Status': 'ok', 'Termination condition': 'optimal', 'Statistics': {'Branch and bound': {'Number of bounded subproblems': '1', 'Number of created subproblems': '1'}}, 'Error rc': 0, 'Time': 0.07029104232788086}], 'Solution': [OrderedDict([('number of solutions', 0), ('number of solutions displayed', 0)])]}"
      ]
     },
     "execution_count": 23,
     "metadata": {},
     "output_type": "execute_result"
    }
   ],
   "source": [
    "opt.solve(model_pyo)"
   ]
  },
  {
   "cell_type": "code",
   "execution_count": 24,
   "id": "4ceda224",
   "metadata": {},
   "outputs": [
    {
     "name": "stdout",
     "output_type": "stream",
     "text": [
      "vLoyaltyIncrease : Size=7, Index=sDrivers\n",
      "    Key          : Lower : Value : Upper : Fixed : Stale : Domain\n",
      "    ambianceRate :     0 :  25.0 :    40 : False : False : NonNegativeIntegers\n",
      "      chooseRate :     0 :   0.0 :    40 : False : False : NonNegativeIntegers\n",
      "       priceRate :     0 :   0.0 :    40 : False : False : NonNegativeIntegers\n",
      "     productRate :     0 :   0.0 :    40 : False : False : NonNegativeIntegers\n",
      "       promoRate :     0 :   0.0 :    40 : False : False : NonNegativeIntegers\n",
      "     serviceRate :     0 :   0.0 :    40 : False : False : NonNegativeIntegers\n",
      "        wifiRate :     0 :   0.0 :    40 : False : False : NonNegativeIntegers\n"
     ]
    }
   ],
   "source": [
    "model_pyo.vLoyaltyIncrease.display()"
   ]
  },
  {
   "cell_type": "code",
   "execution_count": 25,
   "id": "f5a04d0c",
   "metadata": {},
   "outputs": [
    {
     "name": "stdout",
     "output_type": "stream",
     "text": [
      "ctBudget : Size=1\n",
      "    Key  : Lower : Body   : Upper\n",
      "    None :  None : 2500.0 : 2500.0\n"
     ]
    }
   ],
   "source": [
    "model_pyo.ctBudget.display()"
   ]
  },
  {
   "cell_type": "markdown",
   "id": "3ce7f8d5",
   "metadata": {},
   "source": [
    "Based on the results, the optimization suggests allocating approximately **60%** of the budget towards enhancing the ambiance, which includes aspects like music, lighting, and furniture.\n",
    "<br><br>\n",
    "Moreover, considering the **Shap values**, service emerges as the 4th most important factor for loyal clients. While it is crucial to prioritize the **product** and **price**, the Shap values indicate a negative trend with the target value. However, taking intuition into account, we **propose** allocating **62%** of the budget towards improving the **ambiance**, with **18%** dedicated to **price** adjustments and another **18%** allocated for **product** enhancements. \n",
    "<br>\n",
    "This allocation strategy aims to strike a balance among critical factors, emphasizing the ambiance while ensuring the product and price are also adequately addressed to further boost customer loyalty."
   ]
  },
  {
   "cell_type": "code",
   "execution_count": 26,
   "id": "c8b899af",
   "metadata": {},
   "outputs": [
    {
     "name": "stdout",
     "output_type": "stream",
     "text": [
      "['productRate' 'priceRate' 'promoRate' 'ambianceRate' 'wifiRate'\n",
      " 'serviceRate' 'chooseRate']\n"
     ]
    }
   ],
   "source": [
    "print(feature_labels)"
   ]
  },
  {
   "cell_type": "code",
   "execution_count": 27,
   "id": "d1ddb95c",
   "metadata": {},
   "outputs": [],
   "source": [
    "increments = [1, 1, 1, 2.5, 0, 0, 0]"
   ]
  },
  {
   "cell_type": "code",
   "execution_count": 28,
   "id": "580a1f3f",
   "metadata": {},
   "outputs": [],
   "source": [
    "y_test.reset_index(drop= True, inplace = True)"
   ]
  },
  {
   "cell_type": "code",
   "execution_count": 29,
   "id": "d876e0cb",
   "metadata": {},
   "outputs": [],
   "source": [
    "X_test.reset_index(drop= True, inplace = True)"
   ]
  },
  {
   "cell_type": "code",
   "execution_count": 30,
   "id": "20ec01d3",
   "metadata": {},
   "outputs": [
    {
     "data": {
      "text/html": [
       "<div>\n",
       "<style scoped>\n",
       "    .dataframe tbody tr th:only-of-type {\n",
       "        vertical-align: middle;\n",
       "    }\n",
       "\n",
       "    .dataframe tbody tr th {\n",
       "        vertical-align: top;\n",
       "    }\n",
       "\n",
       "    .dataframe thead th {\n",
       "        text-align: right;\n",
       "    }\n",
       "</style>\n",
       "<table border=\"1\" class=\"dataframe\">\n",
       "  <thead>\n",
       "    <tr style=\"text-align: right;\">\n",
       "      <th></th>\n",
       "      <th>productRate</th>\n",
       "      <th>priceRate</th>\n",
       "      <th>promoRate</th>\n",
       "      <th>ambianceRate</th>\n",
       "      <th>wifiRate</th>\n",
       "      <th>serviceRate</th>\n",
       "      <th>chooseRate</th>\n",
       "    </tr>\n",
       "  </thead>\n",
       "  <tbody>\n",
       "    <tr>\n",
       "      <th>0</th>\n",
       "      <td>9.0</td>\n",
       "      <td>7.0</td>\n",
       "      <td>9.0</td>\n",
       "      <td>10.5</td>\n",
       "      <td>6.0</td>\n",
       "      <td>8.0</td>\n",
       "      <td>8.0</td>\n",
       "    </tr>\n",
       "    <tr>\n",
       "      <th>1</th>\n",
       "      <td>7.0</td>\n",
       "      <td>7.0</td>\n",
       "      <td>9.0</td>\n",
       "      <td>6.5</td>\n",
       "      <td>4.0</td>\n",
       "      <td>6.0</td>\n",
       "      <td>6.0</td>\n",
       "    </tr>\n",
       "    <tr>\n",
       "      <th>2</th>\n",
       "      <td>11.0</td>\n",
       "      <td>9.0</td>\n",
       "      <td>11.0</td>\n",
       "      <td>12.5</td>\n",
       "      <td>6.0</td>\n",
       "      <td>10.0</td>\n",
       "      <td>10.0</td>\n",
       "    </tr>\n",
       "    <tr>\n",
       "      <th>3</th>\n",
       "      <td>7.0</td>\n",
       "      <td>5.0</td>\n",
       "      <td>9.0</td>\n",
       "      <td>10.5</td>\n",
       "      <td>8.0</td>\n",
       "      <td>10.0</td>\n",
       "      <td>8.0</td>\n",
       "    </tr>\n",
       "    <tr>\n",
       "      <th>4</th>\n",
       "      <td>9.0</td>\n",
       "      <td>3.0</td>\n",
       "      <td>9.0</td>\n",
       "      <td>12.5</td>\n",
       "      <td>6.0</td>\n",
       "      <td>6.0</td>\n",
       "      <td>8.0</td>\n",
       "    </tr>\n",
       "  </tbody>\n",
       "</table>\n",
       "</div>"
      ],
      "text/plain": [
       "   productRate  priceRate  promoRate  ambianceRate  wifiRate  serviceRate  \\\n",
       "0          9.0        7.0        9.0          10.5       6.0          8.0   \n",
       "1          7.0        7.0        9.0           6.5       4.0          6.0   \n",
       "2         11.0        9.0       11.0          12.5       6.0         10.0   \n",
       "3          7.0        5.0        9.0          10.5       8.0         10.0   \n",
       "4          9.0        3.0        9.0          12.5       6.0          6.0   \n",
       "\n",
       "   chooseRate  \n",
       "0         8.0  \n",
       "1         6.0  \n",
       "2        10.0  \n",
       "3         8.0  \n",
       "4         8.0  "
      ]
     },
     "execution_count": 30,
     "metadata": {},
     "output_type": "execute_result"
    }
   ],
   "source": [
    "X_inc = X_test + increments\n",
    "X_inc.head()"
   ]
  },
  {
   "cell_type": "code",
   "execution_count": 31,
   "id": "0b981161",
   "metadata": {},
   "outputs": [
    {
     "data": {
      "text/html": [
       "<div>\n",
       "<style scoped>\n",
       "    .dataframe tbody tr th:only-of-type {\n",
       "        vertical-align: middle;\n",
       "    }\n",
       "\n",
       "    .dataframe tbody tr th {\n",
       "        vertical-align: top;\n",
       "    }\n",
       "\n",
       "    .dataframe thead th {\n",
       "        text-align: right;\n",
       "    }\n",
       "</style>\n",
       "<table border=\"1\" class=\"dataframe\">\n",
       "  <thead>\n",
       "    <tr style=\"text-align: right;\">\n",
       "      <th></th>\n",
       "      <th>productRate</th>\n",
       "      <th>priceRate</th>\n",
       "      <th>promoRate</th>\n",
       "      <th>ambianceRate</th>\n",
       "      <th>wifiRate</th>\n",
       "      <th>serviceRate</th>\n",
       "      <th>chooseRate</th>\n",
       "    </tr>\n",
       "  </thead>\n",
       "  <tbody>\n",
       "    <tr>\n",
       "      <th>0</th>\n",
       "      <td>8</td>\n",
       "      <td>6</td>\n",
       "      <td>8</td>\n",
       "      <td>8</td>\n",
       "      <td>6</td>\n",
       "      <td>8</td>\n",
       "      <td>8</td>\n",
       "    </tr>\n",
       "    <tr>\n",
       "      <th>1</th>\n",
       "      <td>6</td>\n",
       "      <td>6</td>\n",
       "      <td>8</td>\n",
       "      <td>4</td>\n",
       "      <td>4</td>\n",
       "      <td>6</td>\n",
       "      <td>6</td>\n",
       "    </tr>\n",
       "    <tr>\n",
       "      <th>2</th>\n",
       "      <td>10</td>\n",
       "      <td>8</td>\n",
       "      <td>10</td>\n",
       "      <td>10</td>\n",
       "      <td>6</td>\n",
       "      <td>10</td>\n",
       "      <td>10</td>\n",
       "    </tr>\n",
       "    <tr>\n",
       "      <th>3</th>\n",
       "      <td>6</td>\n",
       "      <td>4</td>\n",
       "      <td>8</td>\n",
       "      <td>8</td>\n",
       "      <td>8</td>\n",
       "      <td>10</td>\n",
       "      <td>8</td>\n",
       "    </tr>\n",
       "    <tr>\n",
       "      <th>4</th>\n",
       "      <td>8</td>\n",
       "      <td>2</td>\n",
       "      <td>8</td>\n",
       "      <td>10</td>\n",
       "      <td>6</td>\n",
       "      <td>6</td>\n",
       "      <td>8</td>\n",
       "    </tr>\n",
       "  </tbody>\n",
       "</table>\n",
       "</div>"
      ],
      "text/plain": [
       "   productRate  priceRate  promoRate  ambianceRate  wifiRate  serviceRate  \\\n",
       "0            8          6          8             8         6            8   \n",
       "1            6          6          8             4         4            6   \n",
       "2           10          8         10            10         6           10   \n",
       "3            6          4          8             8         8           10   \n",
       "4            8          2          8            10         6            6   \n",
       "\n",
       "   chooseRate  \n",
       "0           8  \n",
       "1           6  \n",
       "2          10  \n",
       "3           8  \n",
       "4           8  "
      ]
     },
     "execution_count": 31,
     "metadata": {},
     "output_type": "execute_result"
    }
   ],
   "source": [
    "X_test.head()"
   ]
  },
  {
   "cell_type": "code",
   "execution_count": 32,
   "id": "11ac9bdb",
   "metadata": {},
   "outputs": [],
   "source": [
    "X_inc_adj = pd.DataFrame(data = np.where(X_inc > 10.0, 10.0, X_inc), columns = feature_labels)"
   ]
  },
  {
   "cell_type": "code",
   "execution_count": 33,
   "id": "3897d745",
   "metadata": {},
   "outputs": [
    {
     "data": {
      "text/plain": [
       "loyal\n",
       "0        22\n",
       "1         1\n",
       "dtype: int64"
      ]
     },
     "execution_count": 33,
     "metadata": {},
     "output_type": "execute_result"
    }
   ],
   "source": [
    "pd.DataFrame(model.predict(X_inc_adj), columns = ['loyal']).value_counts()"
   ]
  },
  {
   "cell_type": "code",
   "execution_count": 34,
   "id": "69ecffe2",
   "metadata": {},
   "outputs": [
    {
     "data": {
      "text/plain": [
       "loyal\n",
       "0        20\n",
       "1         3\n",
       "dtype: int64"
      ]
     },
     "execution_count": 34,
     "metadata": {},
     "output_type": "execute_result"
    }
   ],
   "source": [
    "y_test.value_counts()"
   ]
  },
  {
   "cell_type": "markdown",
   "id": "7d653d8a",
   "metadata": {},
   "source": [
    "Upon reviewing the results, it is evident that we have a high dependency on a single individual to create loyalty. This is concerning as a loss of just two clients would lead to a significant performance decline of 66%, which is not favorable.\n",
    "\n",
    "One interesting observation is the peculiar relationship between price and loyalty. It seems that loyal clients may grade the price negatively, yet the model identifies that loyal clients are associated with higher prices. This warrants further investigation to understand the underlying dynamics.\n",
    "\n",
    "Additionally, the limited amount of data is a notable factor. Having more data would enable the model to generalize more effectively and consider not only the current features but also additional variables. For instance, loyalty in a cafeteria environment may vary based on the location, and more data would help capture such nuances.\n",
    "\n",
    "Overall, there are several aspects to consider, such as the relationship between price and loyalty, the need for more data, and the potential influence of other factors. A deeper analysis and additional data could lead to more accurate and robust results."
   ]
  },
  {
   "cell_type": "markdown",
   "id": "e17a7e8c",
   "metadata": {},
   "source": [
    "### What if"
   ]
  },
  {
   "cell_type": "code",
   "execution_count": 66,
   "id": "8891a2b8",
   "metadata": {},
   "outputs": [
    {
     "data": {
      "text/html": [
       "<img src=\"what_if.webp\" width=\"700\" height=\"600\"/>"
      ],
      "text/plain": [
       "<IPython.core.display.Image object>"
      ]
     },
     "execution_count": 66,
     "metadata": {},
     "output_type": "execute_result"
    }
   ],
   "source": [
    "Image(url=\"what_if.webp\", width=700, height=600)"
   ]
  },
  {
   "cell_type": "markdown",
   "id": "7e48f442",
   "metadata": {},
   "source": [
    "In the previous section, we devised what we believed to be the best strategy for increasing loyalty. However, contrary to our initial expectations, the implementation of this solution resulted in a 66% decrease in loyalty, which is concerning.\n",
    "\n",
    "Now, the critical question is: \n",
    "- What steps should we take to effectively boost loyalty?\n",
    "\n",
    "To find an answer, we have adopted the approach of using [Diverse Counterfactual Explanations (DiCE)](https://medium.com/towards-data-science/dice-diverse-counterfactual-explanations-for-hotel-cancellations-762c311b2c64). This technique allows us to create various scenarios where regular customers transform into loyal clients. By exploring these different scenarios, we can gain valuable insights into the factors and strategies that can genuinely drive customer loyalty and inform our future decision-making process."
   ]
  },
  {
   "cell_type": "code",
   "execution_count": 41,
   "id": "3ccf41b7",
   "metadata": {},
   "outputs": [],
   "source": [
    "df_train = pd.concat([X_train, y_train], axis = 1)"
   ]
  },
  {
   "cell_type": "code",
   "execution_count": 44,
   "id": "8e91ac94",
   "metadata": {},
   "outputs": [
    {
     "data": {
      "text/html": [
       "<div>\n",
       "<style scoped>\n",
       "    .dataframe tbody tr th:only-of-type {\n",
       "        vertical-align: middle;\n",
       "    }\n",
       "\n",
       "    .dataframe tbody tr th {\n",
       "        vertical-align: top;\n",
       "    }\n",
       "\n",
       "    .dataframe thead th {\n",
       "        text-align: right;\n",
       "    }\n",
       "</style>\n",
       "<table border=\"1\" class=\"dataframe\">\n",
       "  <thead>\n",
       "    <tr style=\"text-align: right;\">\n",
       "      <th></th>\n",
       "      <th>productRate</th>\n",
       "      <th>priceRate</th>\n",
       "      <th>promoRate</th>\n",
       "      <th>ambianceRate</th>\n",
       "      <th>wifiRate</th>\n",
       "      <th>serviceRate</th>\n",
       "      <th>chooseRate</th>\n",
       "      <th>loyal</th>\n",
       "    </tr>\n",
       "    <tr>\n",
       "      <th>index</th>\n",
       "      <th></th>\n",
       "      <th></th>\n",
       "      <th></th>\n",
       "      <th></th>\n",
       "      <th></th>\n",
       "      <th></th>\n",
       "      <th></th>\n",
       "      <th></th>\n",
       "    </tr>\n",
       "  </thead>\n",
       "  <tbody>\n",
       "    <tr>\n",
       "      <th>31</th>\n",
       "      <td>8</td>\n",
       "      <td>6</td>\n",
       "      <td>6</td>\n",
       "      <td>6</td>\n",
       "      <td>4</td>\n",
       "      <td>6</td>\n",
       "      <td>8</td>\n",
       "      <td>0</td>\n",
       "    </tr>\n",
       "  </tbody>\n",
       "</table>\n",
       "</div>"
      ],
      "text/plain": [
       "       productRate  priceRate  promoRate  ambianceRate  wifiRate  serviceRate  \\\n",
       "index                                                                           \n",
       "31               8          6          6             6         4            6   \n",
       "\n",
       "       chooseRate  loyal  \n",
       "index                     \n",
       "31              8      0  "
      ]
     },
     "execution_count": 44,
     "metadata": {},
     "output_type": "execute_result"
    }
   ],
   "source": [
    "df_train.head(1)"
   ]
  },
  {
   "cell_type": "code",
   "execution_count": 50,
   "id": "70ecb766",
   "metadata": {},
   "outputs": [],
   "source": [
    "d = dice_ml.Data(dataframe = df_train, \n",
    "                 continuous_features = list(feature_labels),  \n",
    "                 outcome_name='loyal')"
   ]
  },
  {
   "cell_type": "code",
   "execution_count": 52,
   "id": "8b74caaf",
   "metadata": {},
   "outputs": [],
   "source": [
    "m = dice_ml.Model(model=model, backend=\"sklearn\")\n",
    "\n",
    "exp = dice_ml.Dice(d, m, method=\"random\")"
   ]
  },
  {
   "cell_type": "code",
   "execution_count": 54,
   "id": "0ad606da",
   "metadata": {},
   "outputs": [
    {
     "data": {
      "text/plain": [
       "productRate     8\n",
       "priceRate       6\n",
       "promoRate       8\n",
       "ambianceRate    8\n",
       "wifiRate        6\n",
       "serviceRate     8\n",
       "chooseRate      8\n",
       "Name: 0, dtype: int64"
      ]
     },
     "execution_count": 54,
     "metadata": {},
     "output_type": "execute_result"
    }
   ],
   "source": [
    "X_test.iloc[0]"
   ]
  },
  {
   "cell_type": "code",
   "execution_count": 55,
   "id": "afdfd6f2",
   "metadata": {},
   "outputs": [
    {
     "data": {
      "text/plain": [
       "loyal    0\n",
       "Name: 0, dtype: int64"
      ]
     },
     "execution_count": 55,
     "metadata": {},
     "output_type": "execute_result"
    }
   ],
   "source": [
    "y_test.iloc[0]"
   ]
  },
  {
   "cell_type": "code",
   "execution_count": 61,
   "id": "9a17a539",
   "metadata": {},
   "outputs": [
    {
     "name": "stderr",
     "output_type": "stream",
     "text": [
      "100%|██████████████████████████████████████████████████████████████████| 3/3 [00:02<00:00,  1.13it/s]\n"
     ]
    }
   ],
   "source": [
    "e1 = exp.generate_counterfactuals(X_test[0:3],  \n",
    "                                  total_CFs=3, \n",
    "                                  features_to_vary=['productRate', 'priceRate', 'ambianceRate'],\n",
    "                                  desired_class=\"opposite\")"
   ]
  },
  {
   "cell_type": "code",
   "execution_count": 67,
   "id": "3f44c4e2",
   "metadata": {},
   "outputs": [
    {
     "name": "stdout",
     "output_type": "stream",
     "text": [
      "Query instance (original outcome : 0)\n"
     ]
    },
    {
     "data": {
      "text/html": [
       "<div>\n",
       "<style scoped>\n",
       "    .dataframe tbody tr th:only-of-type {\n",
       "        vertical-align: middle;\n",
       "    }\n",
       "\n",
       "    .dataframe tbody tr th {\n",
       "        vertical-align: top;\n",
       "    }\n",
       "\n",
       "    .dataframe thead th {\n",
       "        text-align: right;\n",
       "    }\n",
       "</style>\n",
       "<table border=\"1\" class=\"dataframe\">\n",
       "  <thead>\n",
       "    <tr style=\"text-align: right;\">\n",
       "      <th></th>\n",
       "      <th>productRate</th>\n",
       "      <th>priceRate</th>\n",
       "      <th>promoRate</th>\n",
       "      <th>ambianceRate</th>\n",
       "      <th>wifiRate</th>\n",
       "      <th>serviceRate</th>\n",
       "      <th>chooseRate</th>\n",
       "      <th>loyal</th>\n",
       "    </tr>\n",
       "  </thead>\n",
       "  <tbody>\n",
       "    <tr>\n",
       "      <th>0</th>\n",
       "      <td>8</td>\n",
       "      <td>6</td>\n",
       "      <td>8</td>\n",
       "      <td>8</td>\n",
       "      <td>6</td>\n",
       "      <td>8</td>\n",
       "      <td>8</td>\n",
       "      <td>0</td>\n",
       "    </tr>\n",
       "  </tbody>\n",
       "</table>\n",
       "</div>"
      ],
      "text/plain": [
       "   productRate  priceRate  promoRate  ambianceRate  wifiRate  serviceRate  \\\n",
       "0            8          6          8             8         6            8   \n",
       "\n",
       "   chooseRate  loyal  \n",
       "0           8      0  "
      ]
     },
     "metadata": {},
     "output_type": "display_data"
    },
    {
     "name": "stdout",
     "output_type": "stream",
     "text": [
      "\n",
      "Diverse Counterfactual set (new outcome: 1.0)\n"
     ]
    },
    {
     "data": {
      "text/html": [
       "<div>\n",
       "<style scoped>\n",
       "    .dataframe tbody tr th:only-of-type {\n",
       "        vertical-align: middle;\n",
       "    }\n",
       "\n",
       "    .dataframe tbody tr th {\n",
       "        vertical-align: top;\n",
       "    }\n",
       "\n",
       "    .dataframe thead th {\n",
       "        text-align: right;\n",
       "    }\n",
       "</style>\n",
       "<table border=\"1\" class=\"dataframe\">\n",
       "  <thead>\n",
       "    <tr style=\"text-align: right;\">\n",
       "      <th></th>\n",
       "      <th>productRate</th>\n",
       "      <th>priceRate</th>\n",
       "      <th>promoRate</th>\n",
       "      <th>ambianceRate</th>\n",
       "      <th>wifiRate</th>\n",
       "      <th>serviceRate</th>\n",
       "      <th>chooseRate</th>\n",
       "      <th>loyal</th>\n",
       "    </tr>\n",
       "  </thead>\n",
       "  <tbody>\n",
       "    <tr>\n",
       "      <th>0</th>\n",
       "      <td>3</td>\n",
       "      <td>3</td>\n",
       "      <td>-</td>\n",
       "      <td>-</td>\n",
       "      <td>-</td>\n",
       "      <td>-</td>\n",
       "      <td>-</td>\n",
       "      <td>1</td>\n",
       "    </tr>\n",
       "    <tr>\n",
       "      <th>1</th>\n",
       "      <td>3</td>\n",
       "      <td>4</td>\n",
       "      <td>-</td>\n",
       "      <td>-</td>\n",
       "      <td>-</td>\n",
       "      <td>-</td>\n",
       "      <td>-</td>\n",
       "      <td>1</td>\n",
       "    </tr>\n",
       "    <tr>\n",
       "      <th>2</th>\n",
       "      <td>4</td>\n",
       "      <td>5</td>\n",
       "      <td>-</td>\n",
       "      <td>-</td>\n",
       "      <td>-</td>\n",
       "      <td>-</td>\n",
       "      <td>-</td>\n",
       "      <td>1</td>\n",
       "    </tr>\n",
       "  </tbody>\n",
       "</table>\n",
       "</div>"
      ],
      "text/plain": [
       "  productRate priceRate promoRate ambianceRate wifiRate serviceRate  \\\n",
       "0           3         3         -            -        -           -   \n",
       "1           3         4         -            -        -           -   \n",
       "2           4         5         -            -        -           -   \n",
       "\n",
       "  chooseRate loyal  \n",
       "0          -     1  \n",
       "1          -     1  \n",
       "2          -     1  "
      ]
     },
     "metadata": {},
     "output_type": "display_data"
    },
    {
     "name": "stdout",
     "output_type": "stream",
     "text": [
      "Query instance (original outcome : 0)\n"
     ]
    },
    {
     "data": {
      "text/html": [
       "<div>\n",
       "<style scoped>\n",
       "    .dataframe tbody tr th:only-of-type {\n",
       "        vertical-align: middle;\n",
       "    }\n",
       "\n",
       "    .dataframe tbody tr th {\n",
       "        vertical-align: top;\n",
       "    }\n",
       "\n",
       "    .dataframe thead th {\n",
       "        text-align: right;\n",
       "    }\n",
       "</style>\n",
       "<table border=\"1\" class=\"dataframe\">\n",
       "  <thead>\n",
       "    <tr style=\"text-align: right;\">\n",
       "      <th></th>\n",
       "      <th>productRate</th>\n",
       "      <th>priceRate</th>\n",
       "      <th>promoRate</th>\n",
       "      <th>ambianceRate</th>\n",
       "      <th>wifiRate</th>\n",
       "      <th>serviceRate</th>\n",
       "      <th>chooseRate</th>\n",
       "      <th>loyal</th>\n",
       "    </tr>\n",
       "  </thead>\n",
       "  <tbody>\n",
       "    <tr>\n",
       "      <th>0</th>\n",
       "      <td>6</td>\n",
       "      <td>6</td>\n",
       "      <td>8</td>\n",
       "      <td>4</td>\n",
       "      <td>4</td>\n",
       "      <td>6</td>\n",
       "      <td>6</td>\n",
       "      <td>0</td>\n",
       "    </tr>\n",
       "  </tbody>\n",
       "</table>\n",
       "</div>"
      ],
      "text/plain": [
       "   productRate  priceRate  promoRate  ambianceRate  wifiRate  serviceRate  \\\n",
       "0            6          6          8             4         4            6   \n",
       "\n",
       "   chooseRate  loyal  \n",
       "0           6      0  "
      ]
     },
     "metadata": {},
     "output_type": "display_data"
    },
    {
     "name": "stdout",
     "output_type": "stream",
     "text": [
      "\n",
      "Diverse Counterfactual set (new outcome: 1.0)\n"
     ]
    },
    {
     "data": {
      "text/html": [
       "<div>\n",
       "<style scoped>\n",
       "    .dataframe tbody tr th:only-of-type {\n",
       "        vertical-align: middle;\n",
       "    }\n",
       "\n",
       "    .dataframe tbody tr th {\n",
       "        vertical-align: top;\n",
       "    }\n",
       "\n",
       "    .dataframe thead th {\n",
       "        text-align: right;\n",
       "    }\n",
       "</style>\n",
       "<table border=\"1\" class=\"dataframe\">\n",
       "  <thead>\n",
       "    <tr style=\"text-align: right;\">\n",
       "      <th></th>\n",
       "      <th>productRate</th>\n",
       "      <th>priceRate</th>\n",
       "      <th>promoRate</th>\n",
       "      <th>ambianceRate</th>\n",
       "      <th>wifiRate</th>\n",
       "      <th>serviceRate</th>\n",
       "      <th>chooseRate</th>\n",
       "      <th>loyal</th>\n",
       "    </tr>\n",
       "  </thead>\n",
       "  <tbody>\n",
       "    <tr>\n",
       "      <th>0</th>\n",
       "      <td>3</td>\n",
       "      <td>3</td>\n",
       "      <td>-</td>\n",
       "      <td>-</td>\n",
       "      <td>-</td>\n",
       "      <td>-</td>\n",
       "      <td>-</td>\n",
       "      <td>1</td>\n",
       "    </tr>\n",
       "    <tr>\n",
       "      <th>1</th>\n",
       "      <td>-</td>\n",
       "      <td>3</td>\n",
       "      <td>-</td>\n",
       "      <td>5</td>\n",
       "      <td>-</td>\n",
       "      <td>-</td>\n",
       "      <td>-</td>\n",
       "      <td>1</td>\n",
       "    </tr>\n",
       "    <tr>\n",
       "      <th>2</th>\n",
       "      <td>-</td>\n",
       "      <td>3</td>\n",
       "      <td>-</td>\n",
       "      <td>6</td>\n",
       "      <td>-</td>\n",
       "      <td>-</td>\n",
       "      <td>-</td>\n",
       "      <td>1</td>\n",
       "    </tr>\n",
       "  </tbody>\n",
       "</table>\n",
       "</div>"
      ],
      "text/plain": [
       "  productRate priceRate promoRate ambianceRate wifiRate serviceRate  \\\n",
       "0           3         3         -            -        -           -   \n",
       "1           -         3         -            5        -           -   \n",
       "2           -         3         -            6        -           -   \n",
       "\n",
       "  chooseRate loyal  \n",
       "0          -     1  \n",
       "1          -     1  \n",
       "2          -     1  "
      ]
     },
     "metadata": {},
     "output_type": "display_data"
    },
    {
     "name": "stdout",
     "output_type": "stream",
     "text": [
      "Query instance (original outcome : 0)\n"
     ]
    },
    {
     "data": {
      "text/html": [
       "<div>\n",
       "<style scoped>\n",
       "    .dataframe tbody tr th:only-of-type {\n",
       "        vertical-align: middle;\n",
       "    }\n",
       "\n",
       "    .dataframe tbody tr th {\n",
       "        vertical-align: top;\n",
       "    }\n",
       "\n",
       "    .dataframe thead th {\n",
       "        text-align: right;\n",
       "    }\n",
       "</style>\n",
       "<table border=\"1\" class=\"dataframe\">\n",
       "  <thead>\n",
       "    <tr style=\"text-align: right;\">\n",
       "      <th></th>\n",
       "      <th>productRate</th>\n",
       "      <th>priceRate</th>\n",
       "      <th>promoRate</th>\n",
       "      <th>ambianceRate</th>\n",
       "      <th>wifiRate</th>\n",
       "      <th>serviceRate</th>\n",
       "      <th>chooseRate</th>\n",
       "      <th>loyal</th>\n",
       "    </tr>\n",
       "  </thead>\n",
       "  <tbody>\n",
       "    <tr>\n",
       "      <th>0</th>\n",
       "      <td>10</td>\n",
       "      <td>8</td>\n",
       "      <td>10</td>\n",
       "      <td>10</td>\n",
       "      <td>6</td>\n",
       "      <td>10</td>\n",
       "      <td>10</td>\n",
       "      <td>0</td>\n",
       "    </tr>\n",
       "  </tbody>\n",
       "</table>\n",
       "</div>"
      ],
      "text/plain": [
       "   productRate  priceRate  promoRate  ambianceRate  wifiRate  serviceRate  \\\n",
       "0           10          8         10            10         6           10   \n",
       "\n",
       "   chooseRate  loyal  \n",
       "0          10      0  "
      ]
     },
     "metadata": {},
     "output_type": "display_data"
    },
    {
     "name": "stdout",
     "output_type": "stream",
     "text": [
      "\n",
      "Diverse Counterfactual set (new outcome: 1.0)\n"
     ]
    },
    {
     "data": {
      "text/html": [
       "<div>\n",
       "<style scoped>\n",
       "    .dataframe tbody tr th:only-of-type {\n",
       "        vertical-align: middle;\n",
       "    }\n",
       "\n",
       "    .dataframe tbody tr th {\n",
       "        vertical-align: top;\n",
       "    }\n",
       "\n",
       "    .dataframe thead th {\n",
       "        text-align: right;\n",
       "    }\n",
       "</style>\n",
       "<table border=\"1\" class=\"dataframe\">\n",
       "  <thead>\n",
       "    <tr style=\"text-align: right;\">\n",
       "      <th></th>\n",
       "      <th>productRate</th>\n",
       "      <th>priceRate</th>\n",
       "      <th>promoRate</th>\n",
       "      <th>ambianceRate</th>\n",
       "      <th>wifiRate</th>\n",
       "      <th>serviceRate</th>\n",
       "      <th>chooseRate</th>\n",
       "      <th>loyal</th>\n",
       "    </tr>\n",
       "  </thead>\n",
       "  <tbody>\n",
       "    <tr>\n",
       "      <th>0</th>\n",
       "      <td>2</td>\n",
       "      <td>3</td>\n",
       "      <td>-</td>\n",
       "      <td>-</td>\n",
       "      <td>-</td>\n",
       "      <td>-</td>\n",
       "      <td>-</td>\n",
       "      <td>1</td>\n",
       "    </tr>\n",
       "    <tr>\n",
       "      <th>1</th>\n",
       "      <td>-</td>\n",
       "      <td>4</td>\n",
       "      <td>-</td>\n",
       "      <td>5</td>\n",
       "      <td>-</td>\n",
       "      <td>-</td>\n",
       "      <td>-</td>\n",
       "      <td>1</td>\n",
       "    </tr>\n",
       "    <tr>\n",
       "      <th>2</th>\n",
       "      <td>4</td>\n",
       "      <td>2</td>\n",
       "      <td>-</td>\n",
       "      <td>-</td>\n",
       "      <td>-</td>\n",
       "      <td>-</td>\n",
       "      <td>-</td>\n",
       "      <td>1</td>\n",
       "    </tr>\n",
       "  </tbody>\n",
       "</table>\n",
       "</div>"
      ],
      "text/plain": [
       "  productRate priceRate promoRate ambianceRate wifiRate serviceRate  \\\n",
       "0           2         3         -            -        -           -   \n",
       "1           -         4         -            5        -           -   \n",
       "2           4         2         -            -        -           -   \n",
       "\n",
       "  chooseRate loyal  \n",
       "0          -     1  \n",
       "1          -     1  \n",
       "2          -     1  "
      ]
     },
     "metadata": {},
     "output_type": "display_data"
    }
   ],
   "source": [
    "e1.visualize_as_dataframe(show_only_changes=True)"
   ]
  },
  {
   "cell_type": "markdown",
   "id": "820a572c",
   "metadata": {},
   "source": [
    "After conducting a thorough analysis, we reached the final conclusion that decreasing various features in those scenarios does not seem logical. Therefore, it is essential to consider additional features to effectively enhance loyalty. For instance, factors such as proximity of the location to the clients, the time spent in line to make an order, and revisiting the baseline and reevaluating the loyalty definition method could significantly impact loyalty.\n",
    "\n",
    "By taking these additional aspects into account, we can gain a more comprehensive understanding of the factors influencing loyalty and devise a well-rounded strategy to foster stronger customer loyalty and satisfaction. This will enable us to make informed decisions that align with our objectives and enhance overall customer experience."
   ]
  }
 ],
 "metadata": {
  "kernelspec": {
   "display_name": "Python 3 (ipykernel)",
   "language": "python",
   "name": "python3"
  },
  "language_info": {
   "codemirror_mode": {
    "name": "ipython",
    "version": 3
   },
   "file_extension": ".py",
   "mimetype": "text/x-python",
   "name": "python",
   "nbconvert_exporter": "python",
   "pygments_lexer": "ipython3",
   "version": "3.9.6"
  }
 },
 "nbformat": 4,
 "nbformat_minor": 5
}
