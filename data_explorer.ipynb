{
 "cells": [
  {
   "cell_type": "markdown",
   "id": "0a55c3a9",
   "metadata": {},
   "source": [
    "- packages"
   ]
  },
  {
   "cell_type": "code",
   "execution_count": 25,
   "id": "c1ab917b",
   "metadata": {},
   "outputs": [],
   "source": [
    "# general\n",
    "import psycopg2\n",
    "import pandas as pd\n",
    "from sqlalchemy import create_engine\n",
    "import os, yaml, requests\n",
    "import numpy as np\n",
    "\n",
    "# To plot pretty figures\n",
    "%matplotlib inline\n",
    "import matplotlib as mpl\n",
    "import matplotlib.pyplot as plt\n",
    "mpl.rc('axes', labelsize=14)\n",
    "mpl.rc('xtick', labelsize=12)\n",
    "mpl.rc('ytick', labelsize=12)\n",
    "plt.style.use('ggplot')"
   ]
  },
  {
   "cell_type": "markdown",
   "id": "1d153f2f",
   "metadata": {},
   "source": [
    "`functions`"
   ]
  },
  {
   "cell_type": "code",
   "execution_count": 2,
   "id": "451143b3",
   "metadata": {},
   "outputs": [],
   "source": [
    "def read_yaml_file(yaml_file):\n",
    "    \"\"\" load yaml cofigurations \"\"\"\n",
    "\n",
    "    config = None\n",
    "    try:\n",
    "        with open(yaml_file, 'r') as f:\n",
    "            config = yaml.safe_load(f)\n",
    "    except:\n",
    "        raise FileNotFoundError('Couldnt load the file')\n",
    "\n",
    "    return config\n",
    "\n",
    "\n",
    "def get_db_conn_post(creds_file):\n",
    "    \"\"\" Get an authenticated psycopg db connection, given a credentials file\"\"\"\n",
    "    creds = read_yaml_file(creds_file)['db']\n",
    "\n",
    "    connection = psycopg2.connect(\n",
    "        user=creds['user'],\n",
    "        password=creds['pass'],\n",
    "        host=creds['host'],\n",
    "        port=creds['port'],\n",
    "        database=creds['db']\n",
    "    )\n",
    "\n",
    "    return connection"
   ]
  },
  {
   "cell_type": "markdown",
   "id": "8c23bfa8",
   "metadata": {},
   "source": [
    "`set the connection to the database`"
   ]
  },
  {
   "cell_type": "code",
   "execution_count": 3,
   "id": "15451348",
   "metadata": {},
   "outputs": [],
   "source": [
    "db_conn_post = get_db_conn_post(\"key_postgresql.yaml\")"
   ]
  },
  {
   "cell_type": "markdown",
   "id": "1bd77bae",
   "metadata": {},
   "source": [
    "query to get the data"
   ]
  },
  {
   "cell_type": "code",
   "execution_count": 4,
   "id": "e121c946",
   "metadata": {},
   "outputs": [],
   "source": [
    "q = \"\"\"\n",
    "    select\n",
    "            *\n",
    "    from\n",
    "            kaggle_data.starbucks.survey_raw;\n",
    "\"\"\""
   ]
  },
  {
   "cell_type": "markdown",
   "id": "ca2f3b89",
   "metadata": {},
   "source": [
    "`load the data into pandas dataframe`"
   ]
  },
  {
   "cell_type": "code",
   "execution_count": 5,
   "id": "714cf048",
   "metadata": {},
   "outputs": [
    {
     "name": "stderr",
     "output_type": "stream",
     "text": [
      "C:\\Users\\migue\\AppData\\Local\\Temp/ipykernel_19908/3493397046.py:1: UserWarning: pandas only supports SQLAlchemy connectable (engine/connection) or database string URI or sqlite3 DBAPI2 connection. Other DBAPI2 objects are not tested. Please consider using SQLAlchemy.\n",
      "  df_raw = pd.read_sql(sql = q, con = db_conn_post)\n"
     ]
    },
    {
     "data": {
      "text/html": [
       "<div>\n",
       "<style scoped>\n",
       "    .dataframe tbody tr th:only-of-type {\n",
       "        vertical-align: middle;\n",
       "    }\n",
       "\n",
       "    .dataframe tbody tr th {\n",
       "        vertical-align: top;\n",
       "    }\n",
       "\n",
       "    .dataframe thead th {\n",
       "        text-align: right;\n",
       "    }\n",
       "</style>\n",
       "<table border=\"1\" class=\"dataframe\">\n",
       "  <thead>\n",
       "    <tr style=\"text-align: right;\">\n",
       "      <th></th>\n",
       "      <th>Timestamp</th>\n",
       "      <th>1. Your Gender</th>\n",
       "      <th>2. Your Age</th>\n",
       "      <th>3. Are you currently....?</th>\n",
       "      <th>4. What is your annual income?</th>\n",
       "      <th>5. How often do you visit Starbucks?</th>\n",
       "      <th>6. How do you usually enjoy Starbucks?</th>\n",
       "      <th>7. How much time do you normally  spend during your visit?</th>\n",
       "      <th>8. The nearest Starbucks's outlet to you is...?</th>\n",
       "      <th>9. Do you have Starbucks membership card?</th>\n",
       "      <th>...</th>\n",
       "      <th>11. On average, how much would you spend at Starbucks per visit</th>\n",
       "      <th>12. How would you rate the quality of Starbucks compared to oth</th>\n",
       "      <th>13. How would you rate the price range at Starbucks?</th>\n",
       "      <th>14. How important are sales and promotions in your purchase dec</th>\n",
       "      <th>15. How would you rate the ambiance at Starbucks? (lighting, mu</th>\n",
       "      <th>16. You rate the WiFi quality at Starbucks as..</th>\n",
       "      <th>17. How would you rate the service at Starbucks? (Promptness, f</th>\n",
       "      <th>18. How likely you will choose Starbucks for doing business mee</th>\n",
       "      <th>19. How do you come to hear of promotions at Starbucks? Check a</th>\n",
       "      <th>20. Will you continue buying at Starbucks?</th>\n",
       "    </tr>\n",
       "  </thead>\n",
       "  <tbody>\n",
       "    <tr>\n",
       "      <th>0</th>\n",
       "      <td>2019/10/01 12:38:43 PM GMT+8</td>\n",
       "      <td>Female</td>\n",
       "      <td>From 20 to 29</td>\n",
       "      <td>Student</td>\n",
       "      <td>Less than RM25,000</td>\n",
       "      <td>Rarely</td>\n",
       "      <td>Dine in</td>\n",
       "      <td>Between 30 minutes to 1 hour</td>\n",
       "      <td>within 1km</td>\n",
       "      <td>Yes</td>\n",
       "      <td>...</td>\n",
       "      <td>Less than RM20</td>\n",
       "      <td>4</td>\n",
       "      <td>3</td>\n",
       "      <td>5</td>\n",
       "      <td>5</td>\n",
       "      <td>4</td>\n",
       "      <td>4</td>\n",
       "      <td>3</td>\n",
       "      <td>Starbucks Website/Apps;Social Media;Emails;Dea...</td>\n",
       "      <td>Yes</td>\n",
       "    </tr>\n",
       "    <tr>\n",
       "      <th>1</th>\n",
       "      <td>2019/10/01 12:38:54 PM GMT+8</td>\n",
       "      <td>Female</td>\n",
       "      <td>From 20 to 29</td>\n",
       "      <td>Student</td>\n",
       "      <td>Less than RM25,000</td>\n",
       "      <td>Rarely</td>\n",
       "      <td>Take away</td>\n",
       "      <td>Below 30 minutes</td>\n",
       "      <td>1km - 3km</td>\n",
       "      <td>Yes</td>\n",
       "      <td>...</td>\n",
       "      <td>Less than RM20</td>\n",
       "      <td>4</td>\n",
       "      <td>3</td>\n",
       "      <td>4</td>\n",
       "      <td>4</td>\n",
       "      <td>4</td>\n",
       "      <td>5</td>\n",
       "      <td>2</td>\n",
       "      <td>Social Media;In Store displays</td>\n",
       "      <td>Yes</td>\n",
       "    </tr>\n",
       "    <tr>\n",
       "      <th>2</th>\n",
       "      <td>2019/10/01 12:38:56 PM GMT+8</td>\n",
       "      <td>Male</td>\n",
       "      <td>From 20 to 29</td>\n",
       "      <td>Employed</td>\n",
       "      <td>Less than RM25,000</td>\n",
       "      <td>Monthly</td>\n",
       "      <td>Dine in</td>\n",
       "      <td>Between 30 minutes to 1 hour</td>\n",
       "      <td>more than 3km</td>\n",
       "      <td>Yes</td>\n",
       "      <td>...</td>\n",
       "      <td>Less than RM20</td>\n",
       "      <td>4</td>\n",
       "      <td>3</td>\n",
       "      <td>4</td>\n",
       "      <td>4</td>\n",
       "      <td>4</td>\n",
       "      <td>4</td>\n",
       "      <td>3</td>\n",
       "      <td>In Store displays;Billboards</td>\n",
       "      <td>Yes</td>\n",
       "    </tr>\n",
       "  </tbody>\n",
       "</table>\n",
       "<p>3 rows × 21 columns</p>\n",
       "</div>"
      ],
      "text/plain": [
       "                      Timestamp 1. Your Gender    2. Your Age  \\\n",
       "0  2019/10/01 12:38:43 PM GMT+8         Female  From 20 to 29   \n",
       "1  2019/10/01 12:38:54 PM GMT+8         Female  From 20 to 29   \n",
       "2  2019/10/01 12:38:56 PM GMT+8           Male  From 20 to 29   \n",
       "\n",
       "  3. Are you currently....? 4. What is your annual income?  \\\n",
       "0                   Student             Less than RM25,000   \n",
       "1                   Student             Less than RM25,000   \n",
       "2                  Employed             Less than RM25,000   \n",
       "\n",
       "  5. How often do you visit Starbucks? 6. How do you usually enjoy Starbucks?  \\\n",
       "0                               Rarely                                Dine in   \n",
       "1                               Rarely                              Take away   \n",
       "2                              Monthly                                Dine in   \n",
       "\n",
       "  7. How much time do you normally  spend during your visit?  \\\n",
       "0                       Between 30 minutes to 1 hour           \n",
       "1                                   Below 30 minutes           \n",
       "2                       Between 30 minutes to 1 hour           \n",
       "\n",
       "  8. The nearest Starbucks's outlet to you is...?  \\\n",
       "0                                      within 1km   \n",
       "1                                       1km - 3km   \n",
       "2                                   more than 3km   \n",
       "\n",
       "  9. Do you have Starbucks membership card?  ...  \\\n",
       "0                                       Yes  ...   \n",
       "1                                       Yes  ...   \n",
       "2                                       Yes  ...   \n",
       "\n",
       "  11. On average, how much would you spend at Starbucks per visit  \\\n",
       "0                                     Less than RM20                \n",
       "1                                     Less than RM20                \n",
       "2                                     Less than RM20                \n",
       "\n",
       "  12. How would you rate the quality of Starbucks compared to oth  \\\n",
       "0                                                  4                \n",
       "1                                                  4                \n",
       "2                                                  4                \n",
       "\n",
       "   13. How would you rate the price range at Starbucks?  \\\n",
       "0                                                  3      \n",
       "1                                                  3      \n",
       "2                                                  3      \n",
       "\n",
       "   14. How important are sales and promotions in your purchase dec  \\\n",
       "0                                                  5                 \n",
       "1                                                  4                 \n",
       "2                                                  4                 \n",
       "\n",
       "   15. How would you rate the ambiance at Starbucks? (lighting, mu  \\\n",
       "0                                                  5                 \n",
       "1                                                  4                 \n",
       "2                                                  4                 \n",
       "\n",
       "   16. You rate the WiFi quality at Starbucks as..  \\\n",
       "0                                                4   \n",
       "1                                                4   \n",
       "2                                                4   \n",
       "\n",
       "   17. How would you rate the service at Starbucks? (Promptness, f  \\\n",
       "0                                                  4                 \n",
       "1                                                  5                 \n",
       "2                                                  4                 \n",
       "\n",
       "   18. How likely you will choose Starbucks for doing business mee  \\\n",
       "0                                                  3                 \n",
       "1                                                  2                 \n",
       "2                                                  3                 \n",
       "\n",
       "   19. How do you come to hear of promotions at Starbucks? Check a  \\\n",
       "0  Starbucks Website/Apps;Social Media;Emails;Dea...                 \n",
       "1                     Social Media;In Store displays                 \n",
       "2                       In Store displays;Billboards                 \n",
       "\n",
       "  20. Will you continue buying at Starbucks?  \n",
       "0                                        Yes  \n",
       "1                                        Yes  \n",
       "2                                        Yes  \n",
       "\n",
       "[3 rows x 21 columns]"
      ]
     },
     "execution_count": 5,
     "metadata": {},
     "output_type": "execute_result"
    }
   ],
   "source": [
    "df_raw = pd.read_sql(sql = q, con = db_conn_post)\n",
    "df_raw.head(3)"
   ]
  },
  {
   "cell_type": "code",
   "execution_count": 6,
   "id": "2feb7c93",
   "metadata": {},
   "outputs": [
    {
     "name": "stderr",
     "output_type": "stream",
     "text": [
      "C:\\Users\\migue\\AppData\\Local\\Temp/ipykernel_19908/3509780285.py:8: UserWarning: pandas only supports SQLAlchemy connectable (engine/connection) or database string URI or sqlite3 DBAPI2 connection. Other DBAPI2 objects are not tested. Please consider using SQLAlchemy.\n",
      "  df_clean = pd.read_sql(sql = q, con = db_conn_post)\n"
     ]
    },
    {
     "data": {
      "text/html": [
       "<div>\n",
       "<style scoped>\n",
       "    .dataframe tbody tr th:only-of-type {\n",
       "        vertical-align: middle;\n",
       "    }\n",
       "\n",
       "    .dataframe tbody tr th {\n",
       "        vertical-align: top;\n",
       "    }\n",
       "\n",
       "    .dataframe thead th {\n",
       "        text-align: right;\n",
       "    }\n",
       "</style>\n",
       "<table border=\"1\" class=\"dataframe\">\n",
       "  <thead>\n",
       "    <tr style=\"text-align: right;\">\n",
       "      <th></th>\n",
       "      <th>Id</th>\n",
       "      <th>gender</th>\n",
       "      <th>age</th>\n",
       "      <th>status</th>\n",
       "      <th>income</th>\n",
       "      <th>visitNo</th>\n",
       "      <th>method</th>\n",
       "      <th>timeSpend</th>\n",
       "      <th>location</th>\n",
       "      <th>membershipCard</th>\n",
       "      <th>...</th>\n",
       "      <th>chooseRate</th>\n",
       "      <th>promoMethodApp</th>\n",
       "      <th>promoMethodSoc</th>\n",
       "      <th>promoMethodEmail</th>\n",
       "      <th>promoMethodDeal</th>\n",
       "      <th>promoMethodFriend</th>\n",
       "      <th>promoMethodDisplay</th>\n",
       "      <th>promoMethodBillboard</th>\n",
       "      <th>promoMethodOthers</th>\n",
       "      <th>loyal</th>\n",
       "    </tr>\n",
       "  </thead>\n",
       "  <tbody>\n",
       "    <tr>\n",
       "      <th>0</th>\n",
       "      <td>1</td>\n",
       "      <td>1</td>\n",
       "      <td>1</td>\n",
       "      <td>0</td>\n",
       "      <td>0</td>\n",
       "      <td>3</td>\n",
       "      <td>0</td>\n",
       "      <td>1</td>\n",
       "      <td>0</td>\n",
       "      <td>0</td>\n",
       "      <td>...</td>\n",
       "      <td>3</td>\n",
       "      <td>1</td>\n",
       "      <td>1</td>\n",
       "      <td>1</td>\n",
       "      <td>1</td>\n",
       "      <td>1</td>\n",
       "      <td>1</td>\n",
       "      <td>1</td>\n",
       "      <td>1</td>\n",
       "      <td>0</td>\n",
       "    </tr>\n",
       "    <tr>\n",
       "      <th>1</th>\n",
       "      <td>2</td>\n",
       "      <td>1</td>\n",
       "      <td>1</td>\n",
       "      <td>0</td>\n",
       "      <td>0</td>\n",
       "      <td>3</td>\n",
       "      <td>2</td>\n",
       "      <td>0</td>\n",
       "      <td>1</td>\n",
       "      <td>0</td>\n",
       "      <td>...</td>\n",
       "      <td>2</td>\n",
       "      <td>1</td>\n",
       "      <td>1</td>\n",
       "      <td>1</td>\n",
       "      <td>1</td>\n",
       "      <td>1</td>\n",
       "      <td>1</td>\n",
       "      <td>1</td>\n",
       "      <td>1</td>\n",
       "      <td>0</td>\n",
       "    </tr>\n",
       "    <tr>\n",
       "      <th>2</th>\n",
       "      <td>3</td>\n",
       "      <td>0</td>\n",
       "      <td>1</td>\n",
       "      <td>2</td>\n",
       "      <td>0</td>\n",
       "      <td>2</td>\n",
       "      <td>0</td>\n",
       "      <td>1</td>\n",
       "      <td>2</td>\n",
       "      <td>0</td>\n",
       "      <td>...</td>\n",
       "      <td>3</td>\n",
       "      <td>1</td>\n",
       "      <td>1</td>\n",
       "      <td>1</td>\n",
       "      <td>1</td>\n",
       "      <td>1</td>\n",
       "      <td>1</td>\n",
       "      <td>1</td>\n",
       "      <td>1</td>\n",
       "      <td>0</td>\n",
       "    </tr>\n",
       "  </tbody>\n",
       "</table>\n",
       "<p>3 rows × 33 columns</p>\n",
       "</div>"
      ],
      "text/plain": [
       "   Id  gender  age  status  income  visitNo  method  timeSpend  location  \\\n",
       "0   1       1    1       0       0        3       0          1         0   \n",
       "1   2       1    1       0       0        3       2          0         1   \n",
       "2   3       0    1       2       0        2       0          1         2   \n",
       "\n",
       "   membershipCard  ...  chooseRate  promoMethodApp  promoMethodSoc  \\\n",
       "0               0  ...           3               1               1   \n",
       "1               0  ...           2               1               1   \n",
       "2               0  ...           3               1               1   \n",
       "\n",
       "   promoMethodEmail  promoMethodDeal  promoMethodFriend  promoMethodDisplay  \\\n",
       "0                 1                1                  1                   1   \n",
       "1                 1                1                  1                   1   \n",
       "2                 1                1                  1                   1   \n",
       "\n",
       "   promoMethodBillboard  promoMethodOthers  loyal  \n",
       "0                     1                  1      0  \n",
       "1                     1                  1      0  \n",
       "2                     1                  1      0  \n",
       "\n",
       "[3 rows x 33 columns]"
      ]
     },
     "execution_count": 6,
     "metadata": {},
     "output_type": "execute_result"
    }
   ],
   "source": [
    "q = \"\"\"\n",
    "    select\n",
    "            *\n",
    "    from\n",
    "            kaggle_data.starbucks.survey_clean;\n",
    "\"\"\"\n",
    "\n",
    "df_clean = pd.read_sql(sql = q, con = db_conn_post)\n",
    "df_clean.head(3)"
   ]
  },
  {
   "cell_type": "markdown",
   "id": "af154525",
   "metadata": {},
   "source": [
    "Ok, once we have the the raw information we can deep into the data<br>\n",
    "But the first step is to check the data quality"
   ]
  },
  {
   "cell_type": "markdown",
   "id": "fe753619",
   "metadata": {},
   "source": [
    "well, at lest only one row has null values<br>\n",
    "and we can start with the gender, age or occupation with null values"
   ]
  },
  {
   "cell_type": "code",
   "execution_count": 7,
   "id": "170bec36",
   "metadata": {},
   "outputs": [
    {
     "data": {
      "text/plain": [
       "Timestamp                                                          0\n",
       "1. Your Gender                                                     0\n",
       "2. Your Age                                                        0\n",
       "3. Are you currently....?                                          0\n",
       "4. What is your annual income?                                     0\n",
       "5. How often do you visit Starbucks?                               0\n",
       "6. How do you usually enjoy Starbucks?                             1\n",
       "7. How much time do you normally  spend during your visit?         0\n",
       "8. The nearest Starbucks's outlet to you is...?                    0\n",
       "9. Do you have Starbucks membership card?                          0\n",
       "10. What do you most frequently purchase at Starbucks?             0\n",
       "11. On average, how much would you spend at Starbucks per visit    0\n",
       "12. How would you rate the quality of Starbucks compared to oth    0\n",
       "13. How would you rate the price range at Starbucks?               0\n",
       "14. How important are sales and promotions in your purchase dec    0\n",
       "15. How would you rate the ambiance at Starbucks? (lighting, mu    0\n",
       "16. You rate the WiFi quality at Starbucks as..                    0\n",
       "17. How would you rate the service at Starbucks? (Promptness, f    0\n",
       "18. How likely you will choose Starbucks for doing business mee    0\n",
       "19. How do you come to hear of promotions at Starbucks? Check a    1\n",
       "20. Will you continue buying at Starbucks?                         0\n",
       "dtype: int64"
      ]
     },
     "execution_count": 7,
     "metadata": {},
     "output_type": "execute_result"
    }
   ],
   "source": [
    "df_raw.isnull().sum()"
   ]
  },
  {
   "cell_type": "code",
   "execution_count": 12,
   "id": "b1b298aa",
   "metadata": {},
   "outputs": [],
   "source": [
    "columns = df_raw.columns"
   ]
  },
  {
   "cell_type": "code",
   "execution_count": 18,
   "id": "c4e69f71",
   "metadata": {},
   "outputs": [],
   "source": [
    "gender_count = pd.DataFrame(df_raw[columns[1]].value_counts())"
   ]
  },
  {
   "cell_type": "markdown",
   "id": "0e8bfe2f",
   "metadata": {},
   "source": [
    "`gender`"
   ]
  },
  {
   "cell_type": "code",
   "execution_count": 19,
   "id": "a478a4ad",
   "metadata": {},
   "outputs": [
    {
     "data": {
      "text/html": [
       "<div>\n",
       "<style scoped>\n",
       "    .dataframe tbody tr th:only-of-type {\n",
       "        vertical-align: middle;\n",
       "    }\n",
       "\n",
       "    .dataframe tbody tr th {\n",
       "        vertical-align: top;\n",
       "    }\n",
       "\n",
       "    .dataframe thead th {\n",
       "        text-align: right;\n",
       "    }\n",
       "</style>\n",
       "<table border=\"1\" class=\"dataframe\">\n",
       "  <thead>\n",
       "    <tr style=\"text-align: right;\">\n",
       "      <th></th>\n",
       "      <th>1. Your Gender</th>\n",
       "    </tr>\n",
       "  </thead>\n",
       "  <tbody>\n",
       "    <tr>\n",
       "      <th>Female</th>\n",
       "      <td>65</td>\n",
       "    </tr>\n",
       "    <tr>\n",
       "      <th>Male</th>\n",
       "      <td>57</td>\n",
       "    </tr>\n",
       "  </tbody>\n",
       "</table>\n",
       "</div>"
      ],
      "text/plain": [
       "        1. Your Gender\n",
       "Female              65\n",
       "Male                57"
      ]
     },
     "execution_count": 19,
     "metadata": {},
     "output_type": "execute_result"
    }
   ],
   "source": [
    "gender_count"
   ]
  },
  {
   "cell_type": "markdown",
   "id": "85629e06",
   "metadata": {},
   "source": [
    "`age`"
   ]
  },
  {
   "cell_type": "code",
   "execution_count": 28,
   "id": "9236c7ab",
   "metadata": {},
   "outputs": [],
   "source": [
    "age_count = pd.DataFrame(df_raw[columns[2]].value_counts())"
   ]
  },
  {
   "cell_type": "code",
   "execution_count": 29,
   "id": "4604984c",
   "metadata": {},
   "outputs": [
    {
     "data": {
      "text/html": [
       "<div>\n",
       "<style scoped>\n",
       "    .dataframe tbody tr th:only-of-type {\n",
       "        vertical-align: middle;\n",
       "    }\n",
       "\n",
       "    .dataframe tbody tr th {\n",
       "        vertical-align: top;\n",
       "    }\n",
       "\n",
       "    .dataframe thead th {\n",
       "        text-align: right;\n",
       "    }\n",
       "</style>\n",
       "<table border=\"1\" class=\"dataframe\">\n",
       "  <thead>\n",
       "    <tr style=\"text-align: right;\">\n",
       "      <th></th>\n",
       "      <th>2. Your Age</th>\n",
       "    </tr>\n",
       "  </thead>\n",
       "  <tbody>\n",
       "    <tr>\n",
       "      <th>From 20 to 29</th>\n",
       "      <td>85</td>\n",
       "    </tr>\n",
       "    <tr>\n",
       "      <th>From 30 to 39</th>\n",
       "      <td>17</td>\n",
       "    </tr>\n",
       "    <tr>\n",
       "      <th>Below 20</th>\n",
       "      <td>13</td>\n",
       "    </tr>\n",
       "    <tr>\n",
       "      <th>40 and above</th>\n",
       "      <td>7</td>\n",
       "    </tr>\n",
       "  </tbody>\n",
       "</table>\n",
       "</div>"
      ],
      "text/plain": [
       "               2. Your Age\n",
       "From 20 to 29           85\n",
       "From 30 to 39           17\n",
       "Below 20                13\n",
       "40 and above             7"
      ]
     },
     "execution_count": 29,
     "metadata": {},
     "output_type": "execute_result"
    }
   ],
   "source": [
    "age_count"
   ]
  },
  {
   "cell_type": "markdown",
   "id": "82689d1d",
   "metadata": {},
   "source": [
    "`occupation`"
   ]
  },
  {
   "cell_type": "code",
   "execution_count": 34,
   "id": "8fa7556f",
   "metadata": {},
   "outputs": [],
   "source": [
    "occupation_count = pd.DataFrame(df_raw[columns[3]].value_counts())"
   ]
  },
  {
   "cell_type": "code",
   "execution_count": 35,
   "id": "124605d3",
   "metadata": {},
   "outputs": [
    {
     "data": {
      "text/html": [
       "<div>\n",
       "<style scoped>\n",
       "    .dataframe tbody tr th:only-of-type {\n",
       "        vertical-align: middle;\n",
       "    }\n",
       "\n",
       "    .dataframe tbody tr th {\n",
       "        vertical-align: top;\n",
       "    }\n",
       "\n",
       "    .dataframe thead th {\n",
       "        text-align: right;\n",
       "    }\n",
       "</style>\n",
       "<table border=\"1\" class=\"dataframe\">\n",
       "  <thead>\n",
       "    <tr style=\"text-align: right;\">\n",
       "      <th></th>\n",
       "      <th>3. Are you currently....?</th>\n",
       "    </tr>\n",
       "  </thead>\n",
       "  <tbody>\n",
       "    <tr>\n",
       "      <th>Employed</th>\n",
       "      <td>61</td>\n",
       "    </tr>\n",
       "    <tr>\n",
       "      <th>Student</th>\n",
       "      <td>42</td>\n",
       "    </tr>\n",
       "    <tr>\n",
       "      <th>Self-employed</th>\n",
       "      <td>17</td>\n",
       "    </tr>\n",
       "    <tr>\n",
       "      <th>Housewife</th>\n",
       "      <td>2</td>\n",
       "    </tr>\n",
       "  </tbody>\n",
       "</table>\n",
       "</div>"
      ],
      "text/plain": [
       "               3. Are you currently....?\n",
       "Employed                              61\n",
       "Student                               42\n",
       "Self-employed                         17\n",
       "Housewife                              2"
      ]
     },
     "execution_count": 35,
     "metadata": {},
     "output_type": "execute_result"
    }
   ],
   "source": [
    "occupation_count"
   ]
  },
  {
   "cell_type": "markdown",
   "id": "b025d4b6",
   "metadata": {},
   "source": [
    "Based on the charts, we can infer that the majority of customers fall into the category of young individuals who are either employed or students"
   ]
  },
  {
   "cell_type": "code",
   "execution_count": 46,
   "id": "f2503b7c",
   "metadata": {},
   "outputs": [
    {
     "data": {
      "image/png": "[encoded data removed]",
      "text/plain": [
       "<Figure size 1296x576 with 3 Axes>"
      ]
     },
     "metadata": {},
     "output_type": "display_data"
    }
   ],
   "source": [
    "plt.figure(figsize = (18, 8))\n",
    "\n",
    "# gender\n",
    "plt.subplot(221)\n",
    "plt.bar(x = gender_count.index, \n",
    "        height = gender_count[gender_count.columns[0]],\n",
    "        color = '#2ECC71'\n",
    "        )\n",
    "plt.title('gender')\n",
    "\n",
    "# age\n",
    "plt.subplot(122)\n",
    "plt.bar(x = age_count.index, \n",
    "        height = age_count[age_count.columns[0]],\n",
    "        color = '#2ECC71'\n",
    "        )\n",
    "plt.title('age')\n",
    "\n",
    "# occupation\n",
    "plt.subplot(223)\n",
    "plt.bar(x = occupation_count.index, \n",
    "        height = occupation_count[occupation_count.columns[0]],\n",
    "        color = '#2ECC71'\n",
    "        )\n",
    "plt.title('occupation')\n",
    "\n",
    "plt.show()"
   ]
  },
  {
   "cell_type": "code",
   "execution_count": null,
   "id": "8581ec67",
   "metadata": {},
   "outputs": [],
   "source": []
  },
  {
   "cell_type": "code",
   "execution_count": null,
   "id": "fe4ec197",
   "metadata": {},
   "outputs": [],
   "source": []
  },
  {
   "cell_type": "code",
   "execution_count": null,
   "id": "cab34fb0",
   "metadata": {},
   "outputs": [],
   "source": []
  }
 ],
 "metadata": {
  "kernelspec": {
   "display_name": "Python 3 (ipykernel)",
   "language": "python",
   "name": "python3"
  },
  "language_info": {
   "codemirror_mode": {
    "name": "ipython",
    "version": 3
   },
   "file_extension": ".py",
   "mimetype": "text/x-python",
   "name": "python",
   "nbconvert_exporter": "python",
   "pygments_lexer": "ipython3",
   "version": "3.9.6"
  }
 },
 "nbformat": 4,
 "nbformat_minor": 5
}
